{
  "nbformat": 4,
  "nbformat_minor": 0,
  "metadata": {
    "colab": {
      "provenance": [],
      "collapsed_sections": [],
      "toc_visible": true
    },
    "kernelspec": {
      "name": "python3",
      "display_name": "Python 3"
    },
    "language_info": {
      "name": "python"
    }
  },
  "cells": [
    {
      "cell_type": "code",
      "execution_count": 1,
      "metadata": {
        "colab": {
          "base_uri": "https://localhost:8080/"
        },
        "id": "zpDevCIS5WwQ",
        "outputId": "07427d8c-4321-438b-8d50-6a1ca17da15e"
      },
      "outputs": [
        {
          "output_type": "stream",
          "name": "stdout",
          "text": [
            "Mounted at /content/drive\n"
          ]
        }
      ],
      "source": [
        "from google.colab import drive\n",
        "drive.mount(\"/content/drive\")"
      ]
    },
    {
      "cell_type": "code",
      "source": [
        "import pandas as pd"
      ],
      "metadata": {
        "id": "JvsPkFuf6FkQ"
      },
      "execution_count": 2,
      "outputs": []
    },
    {
      "cell_type": "code",
      "source": [
        "df_data = pd.read_csv(\"/content/drive/My Drive/Magang/dataset.csv\")\n",
        "df_data"
      ],
      "metadata": {
        "colab": {
          "base_uri": "https://localhost:8080/",
          "height": 424
        },
        "id": "-_zDkAAl6JQP",
        "outputId": "dffc3d56-50b5-4e47-90fe-65b8be6e2310"
      },
      "execution_count": 19,
      "outputs": [
        {
          "output_type": "execute_result",
          "data": {
            "text/plain": [
              "     label                                             review\n",
              "0      1.0  kemeja bagus bgttttaaaa mau nngisssssknpa dari...\n",
              "1      0.0                 jahit rapicuman benang jahit jelek\n",
              "2      0.0  sesuai harga tipis oke warna abu foto memang b...\n",
              "3      1.0  gila bagus worth lembut baju ira tipis kemeja ...\n",
              "4      0.0            kain bagus halus buka kotor warna putih\n",
              "..     ...                                                ...\n",
              "826    1.0  terima kasih barang sesuai ukur seesuai gambar...\n",
              "827    1.0  mantap realpicttt bangttt emas cuman plastik k...\n",
              "828    1.0  suka tas tas local keren parah pokoknyaaaaa su...\n",
              "829    1.0       kualitas produk produk original harga produk\n",
              "830    1.0  barang selamat mantul banget baju sesuai gamba...\n",
              "\n",
              "[831 rows x 2 columns]"
            ],
            "text/html": [
              "\n",
              "  <div id=\"df-0ee15b8c-d670-41ae-ad2b-da3d044e7dee\">\n",
              "    <div class=\"colab-df-container\">\n",
              "      <div>\n",
              "<style scoped>\n",
              "    .dataframe tbody tr th:only-of-type {\n",
              "        vertical-align: middle;\n",
              "    }\n",
              "\n",
              "    .dataframe tbody tr th {\n",
              "        vertical-align: top;\n",
              "    }\n",
              "\n",
              "    .dataframe thead th {\n",
              "        text-align: right;\n",
              "    }\n",
              "</style>\n",
              "<table border=\"1\" class=\"dataframe\">\n",
              "  <thead>\n",
              "    <tr style=\"text-align: right;\">\n",
              "      <th></th>\n",
              "      <th>label</th>\n",
              "      <th>review</th>\n",
              "    </tr>\n",
              "  </thead>\n",
              "  <tbody>\n",
              "    <tr>\n",
              "      <th>0</th>\n",
              "      <td>1.0</td>\n",
              "      <td>kemeja bagus bgttttaaaa mau nngisssssknpa dari...</td>\n",
              "    </tr>\n",
              "    <tr>\n",
              "      <th>1</th>\n",
              "      <td>0.0</td>\n",
              "      <td>jahit rapicuman benang jahit jelek</td>\n",
              "    </tr>\n",
              "    <tr>\n",
              "      <th>2</th>\n",
              "      <td>0.0</td>\n",
              "      <td>sesuai harga tipis oke warna abu foto memang b...</td>\n",
              "    </tr>\n",
              "    <tr>\n",
              "      <th>3</th>\n",
              "      <td>1.0</td>\n",
              "      <td>gila bagus worth lembut baju ira tipis kemeja ...</td>\n",
              "    </tr>\n",
              "    <tr>\n",
              "      <th>4</th>\n",
              "      <td>0.0</td>\n",
              "      <td>kain bagus halus buka kotor warna putih</td>\n",
              "    </tr>\n",
              "    <tr>\n",
              "      <th>...</th>\n",
              "      <td>...</td>\n",
              "      <td>...</td>\n",
              "    </tr>\n",
              "    <tr>\n",
              "      <th>826</th>\n",
              "      <td>1.0</td>\n",
              "      <td>terima kasih barang sesuai ukur seesuai gambar...</td>\n",
              "    </tr>\n",
              "    <tr>\n",
              "      <th>827</th>\n",
              "      <td>1.0</td>\n",
              "      <td>mantap realpicttt bangttt emas cuman plastik k...</td>\n",
              "    </tr>\n",
              "    <tr>\n",
              "      <th>828</th>\n",
              "      <td>1.0</td>\n",
              "      <td>suka tas tas local keren parah pokoknyaaaaa su...</td>\n",
              "    </tr>\n",
              "    <tr>\n",
              "      <th>829</th>\n",
              "      <td>1.0</td>\n",
              "      <td>kualitas produk produk original harga produk</td>\n",
              "    </tr>\n",
              "    <tr>\n",
              "      <th>830</th>\n",
              "      <td>1.0</td>\n",
              "      <td>barang selamat mantul banget baju sesuai gamba...</td>\n",
              "    </tr>\n",
              "  </tbody>\n",
              "</table>\n",
              "<p>831 rows × 2 columns</p>\n",
              "</div>\n",
              "      <button class=\"colab-df-convert\" onclick=\"convertToInteractive('df-0ee15b8c-d670-41ae-ad2b-da3d044e7dee')\"\n",
              "              title=\"Convert this dataframe to an interactive table.\"\n",
              "              style=\"display:none;\">\n",
              "        \n",
              "  <svg xmlns=\"http://www.w3.org/2000/svg\" height=\"24px\"viewBox=\"0 0 24 24\"\n",
              "       width=\"24px\">\n",
              "    <path d=\"M0 0h24v24H0V0z\" fill=\"none\"/>\n",
              "    <path d=\"M18.56 5.44l.94 2.06.94-2.06 2.06-.94-2.06-.94-.94-2.06-.94 2.06-2.06.94zm-11 1L8.5 8.5l.94-2.06 2.06-.94-2.06-.94L8.5 2.5l-.94 2.06-2.06.94zm10 10l.94 2.06.94-2.06 2.06-.94-2.06-.94-.94-2.06-.94 2.06-2.06.94z\"/><path d=\"M17.41 7.96l-1.37-1.37c-.4-.4-.92-.59-1.43-.59-.52 0-1.04.2-1.43.59L10.3 9.45l-7.72 7.72c-.78.78-.78 2.05 0 2.83L4 21.41c.39.39.9.59 1.41.59.51 0 1.02-.2 1.41-.59l7.78-7.78 2.81-2.81c.8-.78.8-2.07 0-2.86zM5.41 20L4 18.59l7.72-7.72 1.47 1.35L5.41 20z\"/>\n",
              "  </svg>\n",
              "      </button>\n",
              "      \n",
              "  <style>\n",
              "    .colab-df-container {\n",
              "      display:flex;\n",
              "      flex-wrap:wrap;\n",
              "      gap: 12px;\n",
              "    }\n",
              "\n",
              "    .colab-df-convert {\n",
              "      background-color: #E8F0FE;\n",
              "      border: none;\n",
              "      border-radius: 50%;\n",
              "      cursor: pointer;\n",
              "      display: none;\n",
              "      fill: #1967D2;\n",
              "      height: 32px;\n",
              "      padding: 0 0 0 0;\n",
              "      width: 32px;\n",
              "    }\n",
              "\n",
              "    .colab-df-convert:hover {\n",
              "      background-color: #E2EBFA;\n",
              "      box-shadow: 0px 1px 2px rgba(60, 64, 67, 0.3), 0px 1px 3px 1px rgba(60, 64, 67, 0.15);\n",
              "      fill: #174EA6;\n",
              "    }\n",
              "\n",
              "    [theme=dark] .colab-df-convert {\n",
              "      background-color: #3B4455;\n",
              "      fill: #D2E3FC;\n",
              "    }\n",
              "\n",
              "    [theme=dark] .colab-df-convert:hover {\n",
              "      background-color: #434B5C;\n",
              "      box-shadow: 0px 1px 3px 1px rgba(0, 0, 0, 0.15);\n",
              "      filter: drop-shadow(0px 1px 2px rgba(0, 0, 0, 0.3));\n",
              "      fill: #FFFFFF;\n",
              "    }\n",
              "  </style>\n",
              "\n",
              "      <script>\n",
              "        const buttonEl =\n",
              "          document.querySelector('#df-0ee15b8c-d670-41ae-ad2b-da3d044e7dee button.colab-df-convert');\n",
              "        buttonEl.style.display =\n",
              "          google.colab.kernel.accessAllowed ? 'block' : 'none';\n",
              "\n",
              "        async function convertToInteractive(key) {\n",
              "          const element = document.querySelector('#df-0ee15b8c-d670-41ae-ad2b-da3d044e7dee');\n",
              "          const dataTable =\n",
              "            await google.colab.kernel.invokeFunction('convertToInteractive',\n",
              "                                                     [key], {});\n",
              "          if (!dataTable) return;\n",
              "\n",
              "          const docLinkHtml = 'Like what you see? Visit the ' +\n",
              "            '<a target=\"_blank\" href=https://colab.research.google.com/notebooks/data_table.ipynb>data table notebook</a>'\n",
              "            + ' to learn more about interactive tables.';\n",
              "          element.innerHTML = '';\n",
              "          dataTable['output_type'] = 'display_data';\n",
              "          await google.colab.output.renderOutput(dataTable, element);\n",
              "          const docLink = document.createElement('div');\n",
              "          docLink.innerHTML = docLinkHtml;\n",
              "          element.appendChild(docLink);\n",
              "        }\n",
              "      </script>\n",
              "    </div>\n",
              "  </div>\n",
              "  "
            ]
          },
          "metadata": {},
          "execution_count": 19
        }
      ]
    },
    {
      "cell_type": "code",
      "source": [
        "# Proses TF IDF dan Splitting Data\n",
        "from sklearn.model_selection import train_test_split\n",
        "\n",
        "x = df_data['review']\n",
        "y = df_data['label']\n",
        "\n",
        "x_train, x_test, y_train, y_test =train_test_split(x, y, test_size=0.2)"
      ],
      "metadata": {
        "id": "Ldlspkk-OhWe"
      },
      "execution_count": 20,
      "outputs": []
    },
    {
      "cell_type": "code",
      "source": [
        "x_train"
      ],
      "metadata": {
        "colab": {
          "base_uri": "https://localhost:8080/"
        },
        "id": "MEbbe27hPSnz",
        "outputId": "3a2b679f-1fec-466c-bc8b-1258e38734a2"
      },
      "execution_count": 21,
      "outputs": [
        {
          "output_type": "execute_result",
          "data": {
            "text/plain": [
              "536    warna luar ekspetasi dusty kayak magenta beda ...\n",
              "825    bagus harga segitu mahhh murah banget kirim ce...\n",
              "492    langgan belanja tas enggak kecewa barang super...\n",
              "91                   baju cantik kecewa pokok bahan adem\n",
              "204    emas tokoh lebih hari kirim padahal sudah canc...\n",
              "                             ...                        \n",
              "168    bagus kacamatanyaa mewah mahal banget tebal ka...\n",
              "586    warna salah kecewa sesuai pesan sen choco kiri...\n",
              "707    bagus barang realpict syuka toko amanah terima...\n",
              "165    tipisjadi ringkih putih kaca retakeh kerangka ...\n",
              "309    barang rugi barang pesan langgan video unboxin...\n",
              "Name: review, Length: 664, dtype: object"
            ]
          },
          "metadata": {},
          "execution_count": 21
        }
      ]
    },
    {
      "cell_type": "code",
      "source": [
        "x_test"
      ],
      "metadata": {
        "colab": {
          "base_uri": "https://localhost:8080/"
        },
        "id": "HxmZnGxgPVWS",
        "outputId": "429c0ab9-319b-4531-9174-f3a7a38d54d7"
      },
      "execution_count": 24,
      "outputs": [
        {
          "output_type": "execute_result",
          "data": {
            "text/plain": [
              "620           bahan jelek tipis robek tolong jual amanah\n",
              "305    kecewa warna kirim sesuai pesan amanah banget ...\n",
              "556                produk bagus murahh kirim lambat suka\n",
              "616                          kecewa beli beda warna merk\n",
              "454    tukang tipu toko tipu bayar tas kirim tas harg...\n",
              "                             ...                        \n",
              "328    bgsss bgtttrekomen pergi pergisekolah pokok ba...\n",
              "184    nanti kirim packingnya buka untung enggak ada ...\n",
              "419    mantappppppppp kecewa pokok rekomendasi pokok ...\n",
              "559           warna beda sama digmbr jatuh wrnanya gelap\n",
              "54     kecewa model kaku banget kayak training gambar...\n",
              "Name: review, Length: 167, dtype: object"
            ]
          },
          "metadata": {},
          "execution_count": 24
        }
      ]
    },
    {
      "cell_type": "code",
      "source": [
        "# Vektorisasi\n",
        "from sklearn.feature_extraction.text import CountVectorizer\n",
        "\n",
        "vectorizer = CountVectorizer()\n",
        "vectorizer.fit(x_train)"
      ],
      "metadata": {
        "colab": {
          "base_uri": "https://localhost:8080/"
        },
        "id": "CcktRslOPhyC",
        "outputId": "ada903dd-16cc-4072-e243-609c9d504a07"
      },
      "execution_count": 25,
      "outputs": [
        {
          "output_type": "execute_result",
          "data": {
            "text/plain": [
              "CountVectorizer()"
            ]
          },
          "metadata": {},
          "execution_count": 25
        }
      ]
    },
    {
      "cell_type": "code",
      "source": [
        "x_train = vectorizer.transform(x_train)\n",
        "x_test = vectorizer.transform(x_test)\n",
        "\n",
        "print(x_train.shape)\n",
        "print(x_test.shape)"
      ],
      "metadata": {
        "colab": {
          "base_uri": "https://localhost:8080/"
        },
        "id": "KC7fN2SUP9N9",
        "outputId": "c94318d4-a25b-4ec5-ee4c-253238b6a81f"
      },
      "execution_count": 26,
      "outputs": [
        {
          "output_type": "stream",
          "name": "stdout",
          "text": [
            "(664, 1723)\n",
            "(167, 1723)\n"
          ]
        }
      ]
    },
    {
      "cell_type": "code",
      "source": [
        "x_train.toarray()"
      ],
      "metadata": {
        "colab": {
          "base_uri": "https://localhost:8080/"
        },
        "id": "kDW8fWc-QVvT",
        "outputId": "a0ffe8d8-1412-4b57-ebd4-ebe8cc2a1600"
      },
      "execution_count": 27,
      "outputs": [
        {
          "output_type": "execute_result",
          "data": {
            "text/plain": [
              "array([[0, 0, 0, ..., 0, 0, 0],\n",
              "       [0, 0, 0, ..., 0, 0, 0],\n",
              "       [0, 0, 0, ..., 0, 0, 0],\n",
              "       ...,\n",
              "       [0, 0, 0, ..., 0, 0, 0],\n",
              "       [0, 0, 0, ..., 0, 0, 0],\n",
              "       [0, 0, 0, ..., 0, 0, 0]])"
            ]
          },
          "metadata": {},
          "execution_count": 27
        }
      ]
    },
    {
      "cell_type": "code",
      "source": [
        "# Proses Support Vector Machine\n",
        "from sklearn.svm import LinearSVC\n",
        "from sklearn.metrics import accuracy_score\n",
        "\n",
        "for c in [0.01, 0.05, 0.25, 0.50, 1.00]:\n",
        "  svm = LinearSVC(C=c)\n",
        "  svm.fit(x_train, y_train)\n",
        "  print ('Akurasi untuk C = %s :%s' % (c, accuracy_score(y_test, svm.predict(x_test))))"
      ],
      "metadata": {
        "colab": {
          "base_uri": "https://localhost:8080/"
        },
        "id": "09E_KGTlQaPv",
        "outputId": "579f4d30-ad11-426e-cfe0-c77c302962cf"
      },
      "execution_count": 31,
      "outputs": [
        {
          "output_type": "stream",
          "name": "stdout",
          "text": [
            "Akurasi untuk C = 0.01 :0.8502994011976048\n",
            "Akurasi untuk C = 0.05 :0.8802395209580839\n",
            "Akurasi untuk C = 0.25 :0.8622754491017964\n",
            "Akurasi untuk C = 0.5 :0.8562874251497006\n",
            "Akurasi untuk C = 1.0 :0.8562874251497006\n"
          ]
        }
      ]
    },
    {
      "cell_type": "code",
      "source": [
        "# Final metode Support Vector Machine\n",
        "svm = LinearSVC (C = 0.05)\n",
        "svm.fit(x_train, y_train)"
      ],
      "metadata": {
        "colab": {
          "base_uri": "https://localhost:8080/"
        },
        "id": "Jtl6ZaHGR1EG",
        "outputId": "9793a9e7-0d61-4670-dbf9-fdbf68a90d6d"
      },
      "execution_count": 35,
      "outputs": [
        {
          "output_type": "execute_result",
          "data": {
            "text/plain": [
              "LinearSVC(C=0.05)"
            ]
          },
          "metadata": {},
          "execution_count": 35
        }
      ]
    },
    {
      "cell_type": "code",
      "source": [
        "print('Final Model SVM Akurasi : %s' %accuracy_score(y_test, svm.predict(x_test)))"
      ],
      "metadata": {
        "colab": {
          "base_uri": "https://localhost:8080/"
        },
        "id": "UPdd0SvBSTcJ",
        "outputId": "fb04f210-670c-4676-b7e7-45fb54d608f1"
      },
      "execution_count": 36,
      "outputs": [
        {
          "output_type": "stream",
          "name": "stdout",
          "text": [
            "Final Model SVM Akurasi : 0.8802395209580839\n"
          ]
        }
      ]
    },
    {
      "cell_type": "code",
      "source": [
        "# Evaluasi Model Support Vector Machine\n",
        "from sklearn.metrics import confusion_matrix\n",
        "from sklearn.metrics import classification_report\n",
        "from sklearn.metrics import accuracy_score\n",
        "\n",
        "y_pred = svm.predict(x_test)\n",
        "print('Akurasi of SVM Classifier on test set: {:.2f}'.format(svm.score(x_test, y_test)))\n",
        "\n",
        "confusion_matrix = confusion_matrix(y_test, y_pred)\n",
        "print(confusion_matrix)\n",
        "print(classification_report(y_test, y_pred))"
      ],
      "metadata": {
        "colab": {
          "base_uri": "https://localhost:8080/"
        },
        "id": "Wl38vVpWSiE2",
        "outputId": "191c9701-9c97-4994-e159-58e76f6e0165"
      },
      "execution_count": 39,
      "outputs": [
        {
          "output_type": "stream",
          "name": "stdout",
          "text": [
            "Akurasi of SVM Classifier on test set: 0.88\n",
            "[[81 12]\n",
            " [ 8 66]]\n",
            "              precision    recall  f1-score   support\n",
            "\n",
            "         0.0       0.91      0.87      0.89        93\n",
            "         1.0       0.85      0.89      0.87        74\n",
            "\n",
            "    accuracy                           0.88       167\n",
            "   macro avg       0.88      0.88      0.88       167\n",
            "weighted avg       0.88      0.88      0.88       167\n",
            "\n"
          ]
        }
      ]
    }
  ]
}