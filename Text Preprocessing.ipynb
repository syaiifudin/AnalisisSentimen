{
 "cells": [
  {
   "cell_type": "code",
   "execution_count": 1,
   "id": "60dddf97",
   "metadata": {},
   "outputs": [],
   "source": [
    "import pandas as pd\n",
    "import re #regex library\n",
    "import nltk\n",
    "import string\n",
    "# import word_tokenize & FreqDist from NLTK\n",
    "from nltk.tokenize import word_tokenize \n",
    "from nltk.probability import FreqDist"
   ]
  },
  {
   "cell_type": "code",
   "execution_count": 2,
   "id": "7ce5bd17",
   "metadata": {},
   "outputs": [
    {
     "data": {
      "text/html": [
       "<div>\n",
       "<style scoped>\n",
       "    .dataframe tbody tr th:only-of-type {\n",
       "        vertical-align: middle;\n",
       "    }\n",
       "\n",
       "    .dataframe tbody tr th {\n",
       "        vertical-align: top;\n",
       "    }\n",
       "\n",
       "    .dataframe thead th {\n",
       "        text-align: right;\n",
       "    }\n",
       "</style>\n",
       "<table border=\"1\" class=\"dataframe\">\n",
       "  <thead>\n",
       "    <tr style=\"text-align: right;\">\n",
       "      <th></th>\n",
       "      <th>Unnamed: 0</th>\n",
       "      <th>created_at</th>\n",
       "      <th>username</th>\n",
       "      <th>text</th>\n",
       "      <th>label</th>\n",
       "    </tr>\n",
       "  </thead>\n",
       "  <tbody>\n",
       "    <tr>\n",
       "      <th>0</th>\n",
       "      <td>0</td>\n",
       "      <td>2022-11-22</td>\n",
       "      <td>dollfaceAngie88</td>\n",
       "      <td>Selalu menyenangkan naik gojek :)</td>\n",
       "      <td>1</td>\n",
       "    </tr>\n",
       "    <tr>\n",
       "      <th>1</th>\n",
       "      <td>1</td>\n",
       "      <td>2022-11-22</td>\n",
       "      <td>465O5</td>\n",
       "      <td>Pelayanan GOJEK jelek _-</td>\n",
       "      <td>0</td>\n",
       "    </tr>\n",
       "  </tbody>\n",
       "</table>\n",
       "</div>"
      ],
      "text/plain": [
       "   Unnamed: 0 created_at         username                               text  \\\n",
       "0           0 2022-11-22  dollfaceAngie88  Selalu menyenangkan naik gojek :)   \n",
       "1           1 2022-11-22            465O5           Pelayanan GOJEK jelek _-   \n",
       "\n",
       "   label  \n",
       "0      1  \n",
       "1      0  "
      ]
     },
     "execution_count": 2,
     "metadata": {},
     "output_type": "execute_result"
    }
   ],
   "source": [
    "TWEET_DATA = pd.read_excel('fixbanget.xlsx')\n",
    "TWEET_DATA"
   ]
  },
  {
   "cell_type": "code",
   "execution_count": 3,
   "id": "4d964503",
   "metadata": {},
   "outputs": [
    {
     "data": {
      "text/html": [
       "<div>\n",
       "<style scoped>\n",
       "    .dataframe tbody tr th:only-of-type {\n",
       "        vertical-align: middle;\n",
       "    }\n",
       "\n",
       "    .dataframe tbody tr th {\n",
       "        vertical-align: top;\n",
       "    }\n",
       "\n",
       "    .dataframe thead th {\n",
       "        text-align: right;\n",
       "    }\n",
       "</style>\n",
       "<table border=\"1\" class=\"dataframe\">\n",
       "  <thead>\n",
       "    <tr style=\"text-align: right;\">\n",
       "      <th></th>\n",
       "      <th>Unnamed: 0</th>\n",
       "      <th>created_at</th>\n",
       "      <th>username</th>\n",
       "      <th>text</th>\n",
       "      <th>label</th>\n",
       "    </tr>\n",
       "  </thead>\n",
       "  <tbody>\n",
       "    <tr>\n",
       "      <th>0</th>\n",
       "      <td>0</td>\n",
       "      <td>2022-11-22</td>\n",
       "      <td>dollfaceAngie88</td>\n",
       "      <td>selalu menyenangkan naik gojek :)</td>\n",
       "      <td>1</td>\n",
       "    </tr>\n",
       "    <tr>\n",
       "      <th>1</th>\n",
       "      <td>1</td>\n",
       "      <td>2022-11-22</td>\n",
       "      <td>465O5</td>\n",
       "      <td>pelayanan gojek jelek _-</td>\n",
       "      <td>0</td>\n",
       "    </tr>\n",
       "  </tbody>\n",
       "</table>\n",
       "</div>"
      ],
      "text/plain": [
       "   Unnamed: 0 created_at         username                               text  \\\n",
       "0           0 2022-11-22  dollfaceAngie88  selalu menyenangkan naik gojek :)   \n",
       "1           1 2022-11-22            465O5           pelayanan gojek jelek _-   \n",
       "\n",
       "   label  \n",
       "0      1  \n",
       "1      0  "
      ]
     },
     "execution_count": 3,
     "metadata": {},
     "output_type": "execute_result"
    }
   ],
   "source": [
    "##case folding\n",
    "TWEET_DATA['text'] = TWEET_DATA['text'].str.lower()\n",
    "TWEET_DATA"
   ]
  },
  {
   "cell_type": "code",
   "execution_count": 4,
   "id": "61b18abb",
   "metadata": {},
   "outputs": [
    {
     "data": {
      "text/html": [
       "<div>\n",
       "<style scoped>\n",
       "    .dataframe tbody tr th:only-of-type {\n",
       "        vertical-align: middle;\n",
       "    }\n",
       "\n",
       "    .dataframe tbody tr th {\n",
       "        vertical-align: top;\n",
       "    }\n",
       "\n",
       "    .dataframe thead th {\n",
       "        text-align: right;\n",
       "    }\n",
       "</style>\n",
       "<table border=\"1\" class=\"dataframe\">\n",
       "  <thead>\n",
       "    <tr style=\"text-align: right;\">\n",
       "      <th></th>\n",
       "      <th>Unnamed: 0</th>\n",
       "      <th>created_at</th>\n",
       "      <th>username</th>\n",
       "      <th>text</th>\n",
       "      <th>label</th>\n",
       "    </tr>\n",
       "  </thead>\n",
       "  <tbody>\n",
       "    <tr>\n",
       "      <th>0</th>\n",
       "      <td>0</td>\n",
       "      <td>2022-11-22</td>\n",
       "      <td>dollfaceAngie88</td>\n",
       "      <td>selalu menyenangkan naik gojek</td>\n",
       "      <td>1</td>\n",
       "    </tr>\n",
       "    <tr>\n",
       "      <th>1</th>\n",
       "      <td>1</td>\n",
       "      <td>2022-11-22</td>\n",
       "      <td>465O5</td>\n",
       "      <td>pelayanan gojek jelek</td>\n",
       "      <td>0</td>\n",
       "    </tr>\n",
       "  </tbody>\n",
       "</table>\n",
       "</div>"
      ],
      "text/plain": [
       "   Unnamed: 0  created_at         username                            text  \\\n",
       "0           0  2022-11-22  dollfaceAngie88  selalu menyenangkan naik gojek   \n",
       "1           1  2022-11-22            465O5           pelayanan gojek jelek   \n",
       "\n",
       "   label  \n",
       "0      1  \n",
       "1      0  "
      ]
     },
     "execution_count": 4,
     "metadata": {},
     "output_type": "execute_result"
    }
   ],
   "source": [
    "##pengahpusan simbol\n",
    "def remove_tweet_special(text):\n",
    "    # remove tab, new line, ans back slice\n",
    "    text = text.replace('\\\\t',\" \").replace('\\\\n',\" \").replace('\\\\u',\" \").replace('\\\\',\"\")\n",
    "    # remove non ASCII (emoticon, chinese word, .etc)\n",
    "    text = text.encode('ascii', 'replace').decode('ascii')\n",
    "    # remove mention, link, hashtag\n",
    "    text = ' '.join(re.sub(\"([@#][A-Za-z0-9]+)|(\\w+:\\/\\/\\S+)\",\" \", text).split())\n",
    "    # remove incomplete URL\n",
    "    return text.replace(\"http://\", \" \").replace(\"https://\", \" \")\n",
    "                \n",
    "TWEET_DATA['text'] = TWEET_DATA['text'].apply(remove_tweet_special)\n",
    "#remove number\n",
    "def remove_number(text):\n",
    "    return  re.sub(r\"\\d+\", \"\", text)\n",
    "\n",
    "TWEET_DATA['text'] = TWEET_DATA['text'].apply(remove_number)\n",
    "\n",
    "#remove punctuation\n",
    "def remove_punctuation(text):\n",
    "    return text.translate(str.maketrans(\"\",\"\",string.punctuation))\n",
    "\n",
    "TWEET_DATA['text'] = TWEET_DATA['text'].apply(remove_punctuation)\n",
    "\n",
    "#remove whitespace leading & trailing\n",
    "def remove_whitespace_LT(text):\n",
    "    return text.strip()\n",
    "\n",
    "TWEET_DATA['text'] = TWEET_DATA['text'].apply(remove_whitespace_LT)\n",
    "\n",
    "#remove multiple whitespace into single whitespace\n",
    "def remove_whitespace_multiple(text):\n",
    "    return re.sub('\\s+',' ',text)\n",
    "\n",
    "TWEET_DATA['text'] = TWEET_DATA['text'].apply(remove_whitespace_multiple)\n",
    "\n",
    "# remove single char\n",
    "def remove_singl_char(text):\n",
    "    return re.sub(r\"\\b[a-zA-Z]\\b\", \"\", text)\n",
    "\n",
    "TWEET_DATA['text'] = TWEET_DATA['text'].apply(remove_singl_char)\n",
    "TWEET_DATA['created_at'] = TWEET_DATA['created_at'].apply(lambda a: pd.to_datetime(a).date())\n",
    "TWEET_DATA"
   ]
  },
  {
   "cell_type": "code",
   "execution_count": 5,
   "id": "c4e18d06",
   "metadata": {},
   "outputs": [
    {
     "data": {
      "text/html": [
       "<div>\n",
       "<style scoped>\n",
       "    .dataframe tbody tr th:only-of-type {\n",
       "        vertical-align: middle;\n",
       "    }\n",
       "\n",
       "    .dataframe tbody tr th {\n",
       "        vertical-align: top;\n",
       "    }\n",
       "\n",
       "    .dataframe thead th {\n",
       "        text-align: right;\n",
       "    }\n",
       "</style>\n",
       "<table border=\"1\" class=\"dataframe\">\n",
       "  <thead>\n",
       "    <tr style=\"text-align: right;\">\n",
       "      <th></th>\n",
       "      <th>Unnamed: 0</th>\n",
       "      <th>username</th>\n",
       "      <th>text</th>\n",
       "      <th>label</th>\n",
       "    </tr>\n",
       "  </thead>\n",
       "  <tbody>\n",
       "    <tr>\n",
       "      <th>0</th>\n",
       "      <td>0</td>\n",
       "      <td>dollfaceAngie88</td>\n",
       "      <td>selalu menyenangkan naik gojek</td>\n",
       "      <td>1</td>\n",
       "    </tr>\n",
       "    <tr>\n",
       "      <th>1</th>\n",
       "      <td>1</td>\n",
       "      <td>465O5</td>\n",
       "      <td>pelayanan gojek jelek</td>\n",
       "      <td>0</td>\n",
       "    </tr>\n",
       "  </tbody>\n",
       "</table>\n",
       "</div>"
      ],
      "text/plain": [
       "   Unnamed: 0         username                            text  label\n",
       "0           0  dollfaceAngie88  selalu menyenangkan naik gojek      1\n",
       "1           1            465O5           pelayanan gojek jelek      0"
      ]
     },
     "execution_count": 5,
     "metadata": {},
     "output_type": "execute_result"
    }
   ],
   "source": [
    "df_preprocessed = TWEET_DATA.copy()\n",
    "df_preprocessed = df_preprocessed.drop(columns=['created_at'])\n",
    "df_preprocessed.head()"
   ]
  },
  {
   "cell_type": "code",
   "execution_count": 6,
   "id": "8e24607b",
   "metadata": {},
   "outputs": [
    {
     "data": {
      "text/html": [
       "<div>\n",
       "<style scoped>\n",
       "    .dataframe tbody tr th:only-of-type {\n",
       "        vertical-align: middle;\n",
       "    }\n",
       "\n",
       "    .dataframe tbody tr th {\n",
       "        vertical-align: top;\n",
       "    }\n",
       "\n",
       "    .dataframe thead th {\n",
       "        text-align: right;\n",
       "    }\n",
       "</style>\n",
       "<table border=\"1\" class=\"dataframe\">\n",
       "  <thead>\n",
       "    <tr style=\"text-align: right;\">\n",
       "      <th></th>\n",
       "      <th>Unnamed: 0</th>\n",
       "      <th>username</th>\n",
       "      <th>text</th>\n",
       "      <th>label</th>\n",
       "    </tr>\n",
       "  </thead>\n",
       "  <tbody>\n",
       "    <tr>\n",
       "      <th>0</th>\n",
       "      <td>0</td>\n",
       "      <td>dollfaceAngie88</td>\n",
       "      <td>selalu menyenangkan naik gojek</td>\n",
       "      <td>1</td>\n",
       "    </tr>\n",
       "    <tr>\n",
       "      <th>1</th>\n",
       "      <td>1</td>\n",
       "      <td>465O5</td>\n",
       "      <td>pelayanan gojek jelek</td>\n",
       "      <td>0</td>\n",
       "    </tr>\n",
       "  </tbody>\n",
       "</table>\n",
       "</div>"
      ],
      "text/plain": [
       "   Unnamed: 0         username                            text  label\n",
       "0           0  dollfaceAngie88  selalu menyenangkan naik gojek      1\n",
       "1           1            465O5           pelayanan gojek jelek      0"
      ]
     },
     "execution_count": 6,
     "metadata": {},
     "output_type": "execute_result"
    }
   ],
   "source": [
    "df_preprocessed"
   ]
  },
  {
   "cell_type": "code",
   "execution_count": 7,
   "id": "315cc071",
   "metadata": {},
   "outputs": [
    {
     "name": "stdout",
     "output_type": "stream",
     "text": [
      "Tokenizing Result : \n",
      "\n",
      "0    [selalu, menyenangkan, naik, gojek]\n",
      "1              [pelayanan, gojek, jelek]\n",
      "Name: tweet_tokens, dtype: object\n",
      "\n",
      "\n",
      "\n",
      "\n"
     ]
    }
   ],
   "source": [
    "#tokenisasi \n",
    "def word_tokenize_wrapper(text):\n",
    "    return word_tokenize(text)\n",
    "\n",
    "df_preprocessed['tweet_tokens'] = df_preprocessed['text'].apply(word_tokenize_wrapper)\n",
    "\n",
    "print('Tokenizing Result : \\n') \n",
    "print(df_preprocessed['tweet_tokens'].head())\n",
    "print('\\n\\n\\n')\n",
    "# TWEET_DATA"
   ]
  },
  {
   "cell_type": "code",
   "execution_count": 8,
   "id": "38e1e8e8",
   "metadata": {},
   "outputs": [
    {
     "name": "stdout",
     "output_type": "stream",
     "text": [
      "Frequency Tokens : \n",
      "\n",
      "0    [(selalu, 1), (menyenangkan, 1), (naik, 1), (g...\n",
      "1             [(pelayanan, 1), (gojek, 1), (jelek, 1)]\n",
      "Name: tweet_tokens_fdist, dtype: object\n"
     ]
    }
   ],
   "source": [
    "# NLTK calc frequency distribution\n",
    "def freqDist_wrapper(text):\n",
    "    return FreqDist(text)\n",
    "\n",
    "df_preprocessed['tweet_tokens_fdist'] = df_preprocessed['tweet_tokens'].apply(freqDist_wrapper)\n",
    "print('Frequency Tokens : \\n') \n",
    "print(df_preprocessed['tweet_tokens_fdist'].head().apply(lambda x : x.most_common()))\n",
    "# TWEET_DATA"
   ]
  },
  {
   "cell_type": "code",
   "execution_count": 9,
   "id": "697f9275",
   "metadata": {},
   "outputs": [
    {
     "name": "stdout",
     "output_type": "stream",
     "text": [
      "0        [menyenangkan, gojek]\n",
      "1    [pelayanan, gojek, jelek]\n",
      "Name: tweet_tokens_WSW, dtype: object\n"
     ]
    }
   ],
   "source": [
    "from nltk.corpus import stopwords\n",
    "\n",
    "# ----------------------- get stopword from NLTK stopword -------------------------------\n",
    "# get stopword indonesia\n",
    "list_stopwords = stopwords.words('indonesian')\n",
    "\n",
    "\n",
    "# ---------------------------- manualy add stopword  ------------------------------------\n",
    "# append additional stopword\n",
    "list_stopwords.extend([\"yg\", \"dg\", \"rt\", \"dgn\", \"ny\", \"d\", 'klo', \n",
    "                       'kalo', 'amp', 'biar', 'bikin', 'bilang', \n",
    "                       'gak', 'ga', 'krn', 'nya', 'nih', 'sih', \n",
    "                       'si', 'tau', 'tdk', 'tuh', 'utk', 'ya', \n",
    "                       'jd', 'jgn', 'sdh', 'aja', 'n', 't', \n",
    "                       'nyg', 'hehe', 'pen', 'u', 'nan', 'loh', 'rt',\n",
    "                       '&amp', 'yah'])\n",
    "\n",
    "# ----------------------- add stopword from txt file ------------------------------------\n",
    "# read txt stopword using pandas\n",
    "txt_stopword = pd.read_csv(\"stopwords.txt\", names= [\"stopwords\"], header = None)\n",
    "\n",
    "# convert stopword string to list & append additional stopword\n",
    "list_stopwords.extend(txt_stopword[\"stopwords\"][0].split(' '))\n",
    "\n",
    "# ---------------------------------------------------------------------------------------\n",
    "\n",
    "# convert list to dictionary\n",
    "list_stopwords = set(list_stopwords)\n",
    "\n",
    "\n",
    "#remove stopword pada list token\n",
    "def stopwords_removal(words):\n",
    "    return [word for word in words if word not in list_stopwords]\n",
    "\n",
    "df_preprocessed['tweet_tokens_WSW'] = df_preprocessed['tweet_tokens'].apply(stopwords_removal) \n",
    "\n",
    "\n",
    "print(df_preprocessed['tweet_tokens_WSW'].head())"
   ]
  },
  {
   "cell_type": "code",
   "execution_count": 10,
   "id": "6c7c9aba",
   "metadata": {},
   "outputs": [
    {
     "name": "stdout",
     "output_type": "stream",
     "text": [
      "0          [senang, gojek]\n",
      "1    [layan, gojek, jelek]\n",
      "Name: steeming, dtype: object\n"
     ]
    }
   ],
   "source": [
    "from Sastrawi.Stemmer.StemmerFactory import StemmerFactory\n",
    "def stemming(dokumen):\n",
    "    return [StemmerFactory().create_stemmer().stem(kata) for kata in dokumen if kata and kata.isascii()]\n",
    "df_preprocessed['steeming'] = df_preprocessed['tweet_tokens_WSW'].apply(stemming)\n",
    "print(df_preprocessed['steeming'].head())"
   ]
  },
  {
   "cell_type": "code",
   "execution_count": 11,
   "id": "29b586ab",
   "metadata": {},
   "outputs": [
    {
     "data": {
      "text/html": [
       "<div>\n",
       "<style scoped>\n",
       "    .dataframe tbody tr th:only-of-type {\n",
       "        vertical-align: middle;\n",
       "    }\n",
       "\n",
       "    .dataframe tbody tr th {\n",
       "        vertical-align: top;\n",
       "    }\n",
       "\n",
       "    .dataframe thead th {\n",
       "        text-align: right;\n",
       "    }\n",
       "</style>\n",
       "<table border=\"1\" class=\"dataframe\">\n",
       "  <thead>\n",
       "    <tr style=\"text-align: right;\">\n",
       "      <th></th>\n",
       "      <th>Unnamed: 0</th>\n",
       "      <th>username</th>\n",
       "      <th>text</th>\n",
       "      <th>label</th>\n",
       "      <th>tweet_tokens</th>\n",
       "      <th>tweet_tokens_fdist</th>\n",
       "      <th>tweet_tokens_WSW</th>\n",
       "      <th>steeming</th>\n",
       "    </tr>\n",
       "  </thead>\n",
       "  <tbody>\n",
       "    <tr>\n",
       "      <th>0</th>\n",
       "      <td>0</td>\n",
       "      <td>dollfaceAngie88</td>\n",
       "      <td>selalu menyenangkan naik gojek</td>\n",
       "      <td>1</td>\n",
       "      <td>[selalu, menyenangkan, naik, gojek]</td>\n",
       "      <td>{'selalu': 1, 'menyenangkan': 1, 'naik': 1, 'g...</td>\n",
       "      <td>[menyenangkan, gojek]</td>\n",
       "      <td>[senang, gojek]</td>\n",
       "    </tr>\n",
       "    <tr>\n",
       "      <th>1</th>\n",
       "      <td>1</td>\n",
       "      <td>465O5</td>\n",
       "      <td>pelayanan gojek jelek</td>\n",
       "      <td>0</td>\n",
       "      <td>[pelayanan, gojek, jelek]</td>\n",
       "      <td>{'pelayanan': 1, 'gojek': 1, 'jelek': 1}</td>\n",
       "      <td>[pelayanan, gojek, jelek]</td>\n",
       "      <td>[layan, gojek, jelek]</td>\n",
       "    </tr>\n",
       "  </tbody>\n",
       "</table>\n",
       "</div>"
      ],
      "text/plain": [
       "   Unnamed: 0         username                            text  label  \\\n",
       "0           0  dollfaceAngie88  selalu menyenangkan naik gojek      1   \n",
       "1           1            465O5           pelayanan gojek jelek      0   \n",
       "\n",
       "                          tweet_tokens  \\\n",
       "0  [selalu, menyenangkan, naik, gojek]   \n",
       "1            [pelayanan, gojek, jelek]   \n",
       "\n",
       "                                  tweet_tokens_fdist  \\\n",
       "0  {'selalu': 1, 'menyenangkan': 1, 'naik': 1, 'g...   \n",
       "1           {'pelayanan': 1, 'gojek': 1, 'jelek': 1}   \n",
       "\n",
       "            tweet_tokens_WSW               steeming  \n",
       "0      [menyenangkan, gojek]        [senang, gojek]  \n",
       "1  [pelayanan, gojek, jelek]  [layan, gojek, jelek]  "
      ]
     },
     "execution_count": 11,
     "metadata": {},
     "output_type": "execute_result"
    }
   ],
   "source": [
    "df_preprocessed"
   ]
  },
  {
   "cell_type": "code",
   "execution_count": 12,
   "id": "b6889550",
   "metadata": {},
   "outputs": [],
   "source": [
    "#Creating and save dataset to excel\n",
    "df_preprocessed.to_excel(\"okefix.xlsx\")  "
   ]
  }
 ],
 "metadata": {
  "kernelspec": {
   "display_name": "Python 3 (ipykernel)",
   "language": "python",
   "name": "python3"
  },
  "language_info": {
   "codemirror_mode": {
    "name": "ipython",
    "version": 3
   },
   "file_extension": ".py",
   "mimetype": "text/x-python",
   "name": "python",
   "nbconvert_exporter": "python",
   "pygments_lexer": "ipython3",
   "version": "3.9.1"
  },
  "vscode": {
   "interpreter": {
    "hash": "c25269a4018224bb4e3cb6b79397037e31419b0dedc1b97e47175df2e08dbf7b"
   }
  }
 },
 "nbformat": 4,
 "nbformat_minor": 5
}
