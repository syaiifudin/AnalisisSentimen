{
 "cells": [
  {
   "cell_type": "code",
   "execution_count": 1,
   "id": "e54ed0b7-ab03-4471-b19c-ce080073e0a6",
   "metadata": {},
   "outputs": [],
   "source": [
    "#import library\n",
    "import tweepy\n",
    "import webbrowser\n",
    "import time\n",
    "import json\n",
    "import pandas as pd"
   ]
  },
  {
   "cell_type": "code",
   "execution_count": 2,
   "id": "4ed863c0-8611-48c1-acae-61aee15c0dd7",
   "metadata": {},
   "outputs": [],
   "source": [
    "CONSUMER_KEY = 'ZtLli7CHI5mrhJ8JqrWcjRm1R'\n",
    "CONSUMER_SECRET = 'VAqJGAwHXALuWTBy07pT5lNQC5sAi3iW5QTItWoQhAWIjqWShE'\n",
    "OAUTH_TOKEN = '1544980765401722880-HRDPj3e6TLkw7Asi1YV4UddJUZ1W9E'\n",
    "OAUTH_TOKEN_SECRET = 'FVVHb30bYBJfNP1zqQ71PmbZe7NsjPsshvuajnweduYLC'\n",
    "BEARER_TOKEN = 'AAAAAAAAAAAAAAAAAAAAAPU6egEAAAAAeEqsGvidokk62Wqn%2FvWPRQOJJ1M%3D99faNg981uTlW9xa6O7Plr3DwH4NYyUPXUUuZdJMRdXzPwZnGZ'"
   ]
  },
  {
   "cell_type": "code",
   "execution_count": 3,
   "id": "dab3210d-c2e1-42ae-be4b-f65c36b4d595",
   "metadata": {},
   "outputs": [
    {
     "name": "stdout",
     "output_type": "stream",
     "text": [
      "syaiifudin15\n"
     ]
    }
   ],
   "source": [
    "# Creating the authentication object\n",
    "auth = tweepy.OAuthHandler(CONSUMER_KEY, CONSUMER_SECRET)\n",
    "# Setting your access token and secret\n",
    "auth.set_access_token(OAUTH_TOKEN, OAUTH_TOKEN_SECRET)\n",
    "# Creating the API object while passing in auth information\n",
    "api = tweepy.API(auth) \n",
    "print(api.verify_credentials().screen_name)"
   ]
  },
  {
   "cell_type": "code",
   "execution_count": 4,
   "id": "52bc36f7-fefc-41b0-8895-1f9003103a3e",
   "metadata": {},
   "outputs": [],
   "source": [
    "query = 'grab lang:id'\n",
    "\n",
    "# for page in tweepy.Cursor(api.search_full_archive,label='development', \n",
    "#                           query=query,\n",
    "#                           fromDate='202111130000',\n",
    "#                           toDate='202111170000',\n",
    "#                         maxResults=10).items(10):\n",
    "    \n",
    "#     parsedTweets.append('name' = page.in_reply_to_screen_name,'tweet'=>page.text,'created_at' => page.created_at)\n",
    "# parsedTweets\n",
    "tweets = tweepy.Cursor(api.search_tweets, q=query,\n",
    "                       count=200).items(200)"
   ]
  },
  {
   "cell_type": "code",
   "execution_count": 5,
   "id": "58d208a8-eb58-43c0-953b-8be2823168ce",
   "metadata": {},
   "outputs": [
    {
     "data": {
      "text/html": [
       "<div>\n",
       "<style scoped>\n",
       "    .dataframe tbody tr th:only-of-type {\n",
       "        vertical-align: middle;\n",
       "    }\n",
       "\n",
       "    .dataframe tbody tr th {\n",
       "        vertical-align: top;\n",
       "    }\n",
       "\n",
       "    .dataframe thead th {\n",
       "        text-align: right;\n",
       "    }\n",
       "</style>\n",
       "<table border=\"1\" class=\"dataframe\">\n",
       "  <thead>\n",
       "    <tr style=\"text-align: right;\">\n",
       "      <th></th>\n",
       "      <th>created_at</th>\n",
       "      <th>username</th>\n",
       "      <th>text</th>\n",
       "    </tr>\n",
       "  </thead>\n",
       "  <tbody>\n",
       "    <tr>\n",
       "      <th>0</th>\n",
       "      <td>2023-02-14</td>\n",
       "      <td>itsliebling</td>\n",
       "      <td>RT @ketengahketepi: Korang, i suka grab ni😭 ht...</td>\n",
       "    </tr>\n",
       "    <tr>\n",
       "      <th>1</th>\n",
       "      <td>2023-02-14</td>\n",
       "      <td>amoney___</td>\n",
       "      <td>RT @ketengahketepi: Korang, i suka grab ni😭 ht...</td>\n",
       "    </tr>\n",
       "    <tr>\n",
       "      <th>2</th>\n",
       "      <td>2023-02-14</td>\n",
       "      <td>Skyone_creative</td>\n",
       "      <td>INI DIA SURPRISE DARI MINONE😍😍😍\\n\\nDapatkan ha...</td>\n",
       "    </tr>\n",
       "    <tr>\n",
       "      <th>3</th>\n",
       "      <td>2023-02-14</td>\n",
       "      <td>caratsmarket</td>\n",
       "      <td>cwts caratdeul siapa nih yang belum kebagian i...</td>\n",
       "    </tr>\n",
       "    <tr>\n",
       "      <th>4</th>\n",
       "      <td>2023-02-14</td>\n",
       "      <td>AmeramerAmera</td>\n",
       "      <td>RT @ketengahketepi: Korang, i suka grab ni😭 ht...</td>\n",
       "    </tr>\n",
       "    <tr>\n",
       "      <th>...</th>\n",
       "      <td>...</td>\n",
       "      <td>...</td>\n",
       "      <td>...</td>\n",
       "    </tr>\n",
       "    <tr>\n",
       "      <th>195</th>\n",
       "      <td>2023-02-14</td>\n",
       "      <td>Emyliaizzti</td>\n",
       "      <td>I pernah kena macamni HAHAHAHAH rupanya grab t...</td>\n",
       "    </tr>\n",
       "    <tr>\n",
       "      <th>196</th>\n",
       "      <td>2023-02-14</td>\n",
       "      <td>pewchybitchy</td>\n",
       "      <td>Babilaaa aku dok ceruk mana nii susahnyaa dapa...</td>\n",
       "    </tr>\n",
       "    <tr>\n",
       "      <th>197</th>\n",
       "      <td>2023-02-14</td>\n",
       "      <td>aaygx</td>\n",
       "      <td>RT @ketengahketepi: Korang, i suka grab ni😭 ht...</td>\n",
       "    </tr>\n",
       "    <tr>\n",
       "      <th>198</th>\n",
       "      <td>2023-02-14</td>\n",
       "      <td>TianViriyanon</td>\n",
       "      <td>another 10/10 read from @itsteme ! sumpah love...</td>\n",
       "    </tr>\n",
       "    <tr>\n",
       "      <th>199</th>\n",
       "      <td>2023-02-14</td>\n",
       "      <td>zackyisone</td>\n",
       "      <td>Kecik2 dulu slalu lah gini dgn kwn. Now bila b...</td>\n",
       "    </tr>\n",
       "  </tbody>\n",
       "</table>\n",
       "<p>200 rows × 3 columns</p>\n",
       "</div>"
      ],
      "text/plain": [
       "     created_at         username  \\\n",
       "0    2023-02-14      itsliebling   \n",
       "1    2023-02-14        amoney___   \n",
       "2    2023-02-14  Skyone_creative   \n",
       "3    2023-02-14     caratsmarket   \n",
       "4    2023-02-14    AmeramerAmera   \n",
       "..          ...              ...   \n",
       "195  2023-02-14      Emyliaizzti   \n",
       "196  2023-02-14     pewchybitchy   \n",
       "197  2023-02-14            aaygx   \n",
       "198  2023-02-14    TianViriyanon   \n",
       "199  2023-02-14       zackyisone   \n",
       "\n",
       "                                                  text  \n",
       "0    RT @ketengahketepi: Korang, i suka grab ni😭 ht...  \n",
       "1    RT @ketengahketepi: Korang, i suka grab ni😭 ht...  \n",
       "2    INI DIA SURPRISE DARI MINONE😍😍😍\\n\\nDapatkan ha...  \n",
       "3    cwts caratdeul siapa nih yang belum kebagian i...  \n",
       "4    RT @ketengahketepi: Korang, i suka grab ni😭 ht...  \n",
       "..                                                 ...  \n",
       "195  I pernah kena macamni HAHAHAHAH rupanya grab t...  \n",
       "196  Babilaaa aku dok ceruk mana nii susahnyaa dapa...  \n",
       "197  RT @ketengahketepi: Korang, i suka grab ni😭 ht...  \n",
       "198  another 10/10 read from @itsteme ! sumpah love...  \n",
       "199  Kecik2 dulu slalu lah gini dgn kwn. Now bila b...  \n",
       "\n",
       "[200 rows x 3 columns]"
      ]
     },
     "execution_count": 5,
     "metadata": {},
     "output_type": "execute_result"
    }
   ],
   "source": [
    "tweets_list = [[tweet.created_at, tweet.user.screen_name, tweet.text] for tweet in tweets]\n",
    "tweets_df = pd.DataFrame(tweets_list,columns=['created_at', 'username', 'text'])\n",
    "tweets_df['created_at'] = tweets_df['created_at'].apply(lambda a: pd.to_datetime(a).date())\n",
    "tweets_df"
   ]
  },
  {
   "cell_type": "code",
   "execution_count": 6,
   "id": "4945979f-dbf0-4639-a24e-9f46e88f8394",
   "metadata": {},
   "outputs": [],
   "source": [
    "#Creating and save dataset to excel\n",
    "tweets_df.to_excel(\"datagrab52.xlsx\")  "
   ]
  }
 ],
 "metadata": {
  "kernelspec": {
   "display_name": "Python 3 (ipykernel)",
   "language": "python",
   "name": "python3"
  },
  "language_info": {
   "codemirror_mode": {
    "name": "ipython",
    "version": 3
   },
   "file_extension": ".py",
   "mimetype": "text/x-python",
   "name": "python",
   "nbconvert_exporter": "python",
   "pygments_lexer": "ipython3",
   "version": "3.9.1"
  }
 },
 "nbformat": 4,
 "nbformat_minor": 5
}
