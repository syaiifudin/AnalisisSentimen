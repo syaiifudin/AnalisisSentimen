{
 "cells": [
  {
   "cell_type": "code",
   "execution_count": 1,
   "id": "e54ed0b7-ab03-4471-b19c-ce080073e0a6",
   "metadata": {},
   "outputs": [],
   "source": [
    "#import library\n",
    "import tweepy\n",
    "import webbrowser\n",
    "import time\n",
    "import json\n",
    "import pandas as pd"
   ]
  },
  {
   "cell_type": "code",
   "execution_count": 2,
   "id": "4ed863c0-8611-48c1-acae-61aee15c0dd7",
   "metadata": {},
   "outputs": [],
   "source": [
    "CONSUMER_KEY = 'IPTyQLrhaQsZLL1EzFi6maOBf'\n",
    "CONSUMER_SECRET = '0OjL8fROHAnVp0KXP6fK826bIPLHV77evK9lHEX5bDMDJngNCV'\n",
    "OAUTH_TOKEN = '1544980765401722880-sW2XfBUhkxHvYinFPnXMsuuuRWfHpv'\n",
    "OAUTH_TOKEN_SECRET = 'kAVrxua0E1qB0sxSVqsTDX4Q4rmJ8GsMLFnO9gzX3uYCg'\n",
    "BEARER_TOKEN = 'AAAAAAAAAAAAAAAAAAAAAPU6egEAAAAAo%2BPFAaiRgyARwOrme8d1b0eeYI4%3DtE9RP7lqvcYs7seGZoxgJVdMO5b3kpsMZNCFqKf5ZUExu6Kw71'"
   ]
  },
  {
   "cell_type": "code",
   "execution_count": 3,
   "id": "dab3210d-c2e1-42ae-be4b-f65c36b4d595",
   "metadata": {},
   "outputs": [
    {
     "name": "stdout",
     "output_type": "stream",
     "text": [
      "syaiifudin15\n"
     ]
    }
   ],
   "source": [
    "# Creating the authentication object\n",
    "auth = tweepy.OAuthHandler(CONSUMER_KEY, CONSUMER_SECRET)\n",
    "# Setting your access token and secret\n",
    "auth.set_access_token(OAUTH_TOKEN, OAUTH_TOKEN_SECRET)\n",
    "# Creating the API object while passing in auth information\n",
    "api = tweepy.API(auth) \n",
    "print(api.verify_credentials().screen_name)"
   ]
  },
  {
   "cell_type": "code",
   "execution_count": 4,
   "id": "52bc36f7-fefc-41b0-8895-1f9003103a3e",
   "metadata": {},
   "outputs": [],
   "source": [
    "query = 'grab lang:id'\n",
    "\n",
    "# for page in tweepy.Cursor(api.search_full_archive,label='development', \n",
    "#                           query=query,\n",
    "#                           fromDate='202111130000',\n",
    "#                           toDate='202111170000',\n",
    "#                         maxResults=10).items(10):\n",
    "    \n",
    "#     parsedTweets.append('name' = page.in_reply_to_screen_name,'tweet'=>page.text,'created_at' => page.created_at)\n",
    "# parsedTweets\n",
    "tweets = tweepy.Cursor(api.search_tweets, q=query,\n",
    "                       count=100).items(100)"
   ]
  },
  {
   "cell_type": "code",
   "execution_count": 5,
   "id": "58d208a8-eb58-43c0-953b-8be2823168ce",
   "metadata": {},
   "outputs": [
    {
     "data": {
      "text/html": [
       "<div>\n",
       "<style scoped>\n",
       "    .dataframe tbody tr th:only-of-type {\n",
       "        vertical-align: middle;\n",
       "    }\n",
       "\n",
       "    .dataframe tbody tr th {\n",
       "        vertical-align: top;\n",
       "    }\n",
       "\n",
       "    .dataframe thead th {\n",
       "        text-align: right;\n",
       "    }\n",
       "</style>\n",
       "<table border=\"1\" class=\"dataframe\">\n",
       "  <thead>\n",
       "    <tr style=\"text-align: right;\">\n",
       "      <th></th>\n",
       "      <th>created_at</th>\n",
       "      <th>username</th>\n",
       "      <th>text</th>\n",
       "    </tr>\n",
       "  </thead>\n",
       "  <tbody>\n",
       "    <tr>\n",
       "      <th>0</th>\n",
       "      <td>2022-07-23</td>\n",
       "      <td>arifabbb</td>\n",
       "      <td>@ndagels aku tkut kalo nyetir motor kya gini, ...</td>\n",
       "    </tr>\n",
       "    <tr>\n",
       "      <th>1</th>\n",
       "      <td>2022-07-23</td>\n",
       "      <td>xitsmydreamx</td>\n",
       "      <td>RT @browmnies: mind to help RT? thankyou! 💐\\n\\...</td>\n",
       "    </tr>\n",
       "    <tr>\n",
       "      <th>2</th>\n",
       "      <td>2022-07-23</td>\n",
       "      <td>chocbox4you</td>\n",
       "      <td>RT @llilly_rose: Korang tengah cari baju untuk...</td>\n",
       "    </tr>\n",
       "    <tr>\n",
       "      <th>3</th>\n",
       "      <td>2022-07-23</td>\n",
       "      <td>pksmggg</td>\n",
       "      <td>RT @browmnies: mind to help RT? thankyou! 💐\\n\\...</td>\n",
       "    </tr>\n",
       "    <tr>\n",
       "      <th>4</th>\n",
       "      <td>2022-07-23</td>\n",
       "      <td>syrhmzlann_</td>\n",
       "      <td>RT @llilly_rose: Korang tengah cari baju untuk...</td>\n",
       "    </tr>\n",
       "    <tr>\n",
       "      <th>...</th>\n",
       "      <td>...</td>\n",
       "      <td>...</td>\n",
       "      <td>...</td>\n",
       "    </tr>\n",
       "    <tr>\n",
       "      <th>95</th>\n",
       "      <td>2022-07-23</td>\n",
       "      <td>RareKabus</td>\n",
       "      <td>RT @casualpantshub: alhamdulillah,  yayy someo...</td>\n",
       "    </tr>\n",
       "    <tr>\n",
       "      <th>96</th>\n",
       "      <td>2022-07-23</td>\n",
       "      <td>NNorsyahiera</td>\n",
       "      <td>RT @shanteksigadis: ❤️𝙃𝙀𝙇𝙇𝙊 𝙉𝙐𝘿𝙀 𝙇𝙊𝙑𝙀𝙍❤️\\n\\nSe...</td>\n",
       "    </tr>\n",
       "    <tr>\n",
       "      <th>97</th>\n",
       "      <td>2022-07-23</td>\n",
       "      <td>eikahyf</td>\n",
       "      <td>RT @casualpantshub: alhamdulillah,  yayy someo...</td>\n",
       "    </tr>\n",
       "    <tr>\n",
       "      <th>98</th>\n",
       "      <td>2022-07-23</td>\n",
       "      <td>hamizahzulisa</td>\n",
       "      <td>RT @ketengahketepi: Bukan salah kucing tu, rot...</td>\n",
       "    </tr>\n",
       "    <tr>\n",
       "      <th>99</th>\n",
       "      <td>2022-07-23</td>\n",
       "      <td>mildaaoktv</td>\n",
       "      <td>Kenapasiii jcool twist ga ada di grab. Pffffft...</td>\n",
       "    </tr>\n",
       "  </tbody>\n",
       "</table>\n",
       "<p>100 rows × 3 columns</p>\n",
       "</div>"
      ],
      "text/plain": [
       "    created_at       username  \\\n",
       "0   2022-07-23       arifabbb   \n",
       "1   2022-07-23   xitsmydreamx   \n",
       "2   2022-07-23    chocbox4you   \n",
       "3   2022-07-23        pksmggg   \n",
       "4   2022-07-23    syrhmzlann_   \n",
       "..         ...            ...   \n",
       "95  2022-07-23      RareKabus   \n",
       "96  2022-07-23   NNorsyahiera   \n",
       "97  2022-07-23        eikahyf   \n",
       "98  2022-07-23  hamizahzulisa   \n",
       "99  2022-07-23     mildaaoktv   \n",
       "\n",
       "                                                 text  \n",
       "0   @ndagels aku tkut kalo nyetir motor kya gini, ...  \n",
       "1   RT @browmnies: mind to help RT? thankyou! 💐\\n\\...  \n",
       "2   RT @llilly_rose: Korang tengah cari baju untuk...  \n",
       "3   RT @browmnies: mind to help RT? thankyou! 💐\\n\\...  \n",
       "4   RT @llilly_rose: Korang tengah cari baju untuk...  \n",
       "..                                                ...  \n",
       "95  RT @casualpantshub: alhamdulillah,  yayy someo...  \n",
       "96  RT @shanteksigadis: ❤️𝙃𝙀𝙇𝙇𝙊 𝙉𝙐𝘿𝙀 𝙇𝙊𝙑𝙀𝙍❤️\\n\\nSe...  \n",
       "97  RT @casualpantshub: alhamdulillah,  yayy someo...  \n",
       "98  RT @ketengahketepi: Bukan salah kucing tu, rot...  \n",
       "99  Kenapasiii jcool twist ga ada di grab. Pffffft...  \n",
       "\n",
       "[100 rows x 3 columns]"
      ]
     },
     "execution_count": 5,
     "metadata": {},
     "output_type": "execute_result"
    }
   ],
   "source": [
    "tweets_list = [[tweet.created_at, tweet.user.screen_name, tweet.text] for tweet in tweets]\n",
    "tweets_df = pd.DataFrame(tweets_list,columns=['created_at', 'username', 'text'])\n",
    "tweets_df['created_at'] = tweets_df['created_at'].apply(lambda a: pd.to_datetime(a).date())\n",
    "tweets_df"
   ]
  },
  {
   "cell_type": "code",
   "execution_count": 6,
   "id": "4945979f-dbf0-4639-a24e-9f46e88f8394",
   "metadata": {},
   "outputs": [],
   "source": [
    "#Creating and save dataset to excel\n",
    "tweets_df.to_excel(\"datasetgrab8.xlsx\")  "
   ]
  }
 ],
 "metadata": {
  "kernelspec": {
   "display_name": "Python 3 (ipykernel)",
   "language": "python",
   "name": "python3"
  },
  "language_info": {
   "codemirror_mode": {
    "name": "ipython",
    "version": 3
   },
   "file_extension": ".py",
   "mimetype": "text/x-python",
   "name": "python",
   "nbconvert_exporter": "python",
   "pygments_lexer": "ipython3",
   "version": "3.9.1"
  }
 },
 "nbformat": 4,
 "nbformat_minor": 5
}
