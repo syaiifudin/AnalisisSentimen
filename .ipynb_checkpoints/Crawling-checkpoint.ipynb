{
 "cells": [
  {
   "cell_type": "code",
   "execution_count": 1,
   "id": "db181252-0908-4ad7-a180-8b626fdb00f4",
   "metadata": {},
   "outputs": [],
   "source": [
    "#import library\n",
    "import tweepy\n",
    "import webbrowser\n",
    "import time\n",
    "import json\n",
    "import pandas as pd"
   ]
  },
  {
   "cell_type": "code",
   "execution_count": 2,
   "id": "9fa04d9c-414f-4fed-bc63-03bacd3ebd45",
   "metadata": {},
   "outputs": [],
   "source": [
    "CONSUMER_KEY = 'ZtLli7CHI5mrhJ8JqrWcjRm1R'\n",
    "CONSUMER_SECRET = 'VAqJGAwHXALuWTBy07pT5lNQC5sAi3iW5QTItWoQhAWIjqWShE'\n",
    "OAUTH_TOKEN = '1544980765401722880-HRDPj3e6TLkw7Asi1YV4UddJUZ1W9E'\n",
    "OAUTH_TOKEN_SECRET = 'FVVHb30bYBJfNP1zqQ71PmbZe7NsjPsshvuajnweduYLC'\n",
    "BEARER_TOKEN = 'AAAAAAAAAAAAAAAAAAAAAPU6egEAAAAAeEqsGvidokk62Wqn%2FvWPRQOJJ1M%3D99faNg981uTlW9xa6O7Plr3DwH4NYyUPXUUuZdJMRdXzPwZnGZ'"
   ]
  },
  {
   "cell_type": "code",
   "execution_count": 3,
   "id": "7205e166-4d5e-47a4-87ef-e9d0a6e8a951",
   "metadata": {},
   "outputs": [
    {
     "name": "stdout",
     "output_type": "stream",
     "text": [
      "syaiifudin15\n"
     ]
    }
   ],
   "source": [
    "# Creating the authentication object\n",
    "auth = tweepy.OAuthHandler(CONSUMER_KEY, CONSUMER_SECRET)\n",
    "# Setting your access token and secret\n",
    "auth.set_access_token(OAUTH_TOKEN, OAUTH_TOKEN_SECRET)\n",
    "# Creating the API object while passing in auth information\n",
    "api = tweepy.API(auth) \n",
    "print(api.verify_credentials().screen_name)"
   ]
  },
  {
   "cell_type": "code",
   "execution_count": 4,
   "id": "3364e169-74d6-4a4b-89e9-a78495af9c64",
   "metadata": {},
   "outputs": [],
   "source": [
    "# tentukan kata kunci pencarian dan tanggal pengambilan data\n",
    "start_date = \"2023-03-06\"\n",
    "end_date = \"2023-03-09\""
   ]
  },
  {
   "cell_type": "code",
   "execution_count": 5,
   "id": "484b702e-9e4a-4e30-bde8-9e51ad8b6e5f",
   "metadata": {},
   "outputs": [],
   "source": [
    "# tentukan jumlah data yang akan diambil\n",
    "limit = 400"
   ]
  },
  {
   "cell_type": "code",
   "execution_count": 6,
   "id": "5ccdcf8e-6b6f-4836-b402-df66c5487013",
   "metadata": {},
   "outputs": [],
   "source": [
    "# Buat query untuk mencari tweet dengan keyword tertentu pada rentang tanggal tertentu\n",
    "query = \"gojek\"\n",
    "tweets = tweepy.Cursor(api.search_tweets, q=query, lang=\"id\", since_id=start_date, until=end_date).items(limit)"
   ]
  },
  {
   "cell_type": "code",
   "execution_count": 7,
   "id": "a282eff0-a2c1-43b1-8bae-0ebc86659fe5",
   "metadata": {},
   "outputs": [],
   "source": [
    "# Simpan data ke dalam list\n",
    "data = []\n",
    "for tweet in tweets:\n",
    "    row = [tweet.created_at, tweet.user.screen_name, tweet.text]\n",
    "    data.append(row)"
   ]
  },
  {
   "cell_type": "code",
   "execution_count": 8,
   "id": "ea4ea63e-0978-445f-9039-e41d73c1ccae",
   "metadata": {},
   "outputs": [
    {
     "data": {
      "text/html": [
       "<div>\n",
       "<style scoped>\n",
       "    .dataframe tbody tr th:only-of-type {\n",
       "        vertical-align: middle;\n",
       "    }\n",
       "\n",
       "    .dataframe tbody tr th {\n",
       "        vertical-align: top;\n",
       "    }\n",
       "\n",
       "    .dataframe thead th {\n",
       "        text-align: right;\n",
       "    }\n",
       "</style>\n",
       "<table border=\"1\" class=\"dataframe\">\n",
       "  <thead>\n",
       "    <tr style=\"text-align: right;\">\n",
       "      <th></th>\n",
       "      <th>created_at</th>\n",
       "      <th>username</th>\n",
       "      <th>text</th>\n",
       "    </tr>\n",
       "  </thead>\n",
       "  <tbody>\n",
       "  </tbody>\n",
       "</table>\n",
       "</div>"
      ],
      "text/plain": [
       "Empty DataFrame\n",
       "Columns: [created_at, username, text]\n",
       "Index: []"
      ]
     },
     "execution_count": 8,
     "metadata": {},
     "output_type": "execute_result"
    }
   ],
   "source": [
    "# Ubah list ke dalam pandas dataframe\n",
    "df = pd.DataFrame(data, columns=['created_at', 'username', 'text'])\n",
    "\n",
    "# Ubah kolom 'created_at' menjadi tipe data datetime\n",
    "#df['created_at'] = pd.to_datetime(df['created_at'])\n",
    "\n",
    "# Remove timezone information\n",
    "df['created_at'] = df['created_at'].dt.tz_localize(None)\n",
    "df"
   ]
  },
  {
   "cell_type": "code",
   "execution_count": 9,
   "id": "397d17c4-eba9-49e9-94b7-cb651bd02668",
   "metadata": {},
   "outputs": [],
   "source": [
    "#Creating and save dataset to excel\n",
    "df.to_excel(\"datagojek32.xlsx\")  "
   ]
  },
  {
   "cell_type": "code",
   "execution_count": null,
   "id": "964af93b-4495-4758-9955-cc5d0b560a6a",
   "metadata": {},
   "outputs": [],
   "source": []
  }
 ],
 "metadata": {
  "kernelspec": {
   "display_name": "Python 3 (ipykernel)",
   "language": "python",
   "name": "python3"
  },
  "language_info": {
   "codemirror_mode": {
    "name": "ipython",
    "version": 3
   },
   "file_extension": ".py",
   "mimetype": "text/x-python",
   "name": "python",
   "nbconvert_exporter": "python",
   "pygments_lexer": "ipython3",
   "version": "3.9.1"
  }
 },
 "nbformat": 4,
 "nbformat_minor": 5
}
