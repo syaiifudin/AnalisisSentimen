{
 "cells": [
  {
   "cell_type": "code",
   "execution_count": 1,
   "id": "e54ed0b7-ab03-4471-b19c-ce080073e0a6",
   "metadata": {},
   "outputs": [],
   "source": [
    "import tweepy\n",
    "import webbrowser\n",
    "import time\n",
    "import json\n",
    "import pandas as pd"
   ]
  },
  {
   "cell_type": "code",
   "execution_count": 2,
   "id": "4ed863c0-8611-48c1-acae-61aee15c0dd7",
   "metadata": {},
   "outputs": [],
   "source": [
    "CONSUMER_KEY = 'IPTyQLrhaQsZLL1EzFi6maOBf'\n",
    "CONSUMER_SECRET = '0OjL8fROHAnVp0KXP6fK826bIPLHV77evK9lHEX5bDMDJngNCV'\n",
    "OAUTH_TOKEN = '1544980765401722880-sW2XfBUhkxHvYinFPnXMsuuuRWfHpv'\n",
    "OAUTH_TOKEN_SECRET = 'kAVrxua0E1qB0sxSVqsTDX4Q4rmJ8GsMLFnO9gzX3uYCg'\n",
    "BEARER_TOKEN = 'AAAAAAAAAAAAAAAAAAAAAPU6egEAAAAAo%2BPFAaiRgyARwOrme8d1b0eeYI4%3DtE9RP7lqvcYs7seGZoxgJVdMO5b3kpsMZNCFqKf5ZUExu6Kw71'"
   ]
  },
  {
   "cell_type": "code",
   "execution_count": 3,
   "id": "dab3210d-c2e1-42ae-be4b-f65c36b4d595",
   "metadata": {},
   "outputs": [
    {
     "name": "stdout",
     "output_type": "stream",
     "text": [
      "syaiifudin15\n"
     ]
    }
   ],
   "source": [
    "# Creating the authentication object\n",
    "auth = tweepy.OAuthHandler(CONSUMER_KEY, CONSUMER_SECRET)\n",
    "# Setting your access token and secret\n",
    "auth.set_access_token(OAUTH_TOKEN, OAUTH_TOKEN_SECRET)\n",
    "# Creating the API object while passing in auth information\n",
    "api = tweepy.API(auth) \n",
    "print(api.verify_credentials().screen_name)"
   ]
  },
  {
   "cell_type": "code",
   "execution_count": 4,
   "id": "52bc36f7-fefc-41b0-8895-1f9003103a3e",
   "metadata": {},
   "outputs": [],
   "source": [
    "query = 'gojek lang:id'\n",
    "\n",
    "# for page in tweepy.Cursor(api.search_full_archive,label='development', \n",
    "#                           query=query,\n",
    "#                           fromDate='202111130000',\n",
    "#                           toDate='202111170000',\n",
    "#                         maxResults=10).items(10):\n",
    "    \n",
    "#     parsedTweets.append('name' = page.in_reply_to_screen_name,'tweet'=>page.text,'created_at' => page.created_at)\n",
    "# parsedTweets\n",
    "tweets = tweepy.Cursor(api.search_tweets, \n",
    "                          q=query,\n",
    "                       count=100).items(100)"
   ]
  },
  {
   "cell_type": "code",
   "execution_count": 5,
   "id": "58d208a8-eb58-43c0-953b-8be2823168ce",
   "metadata": {},
   "outputs": [
    {
     "data": {
      "text/html": [
       "<div>\n",
       "<style scoped>\n",
       "    .dataframe tbody tr th:only-of-type {\n",
       "        vertical-align: middle;\n",
       "    }\n",
       "\n",
       "    .dataframe tbody tr th {\n",
       "        vertical-align: top;\n",
       "    }\n",
       "\n",
       "    .dataframe thead th {\n",
       "        text-align: right;\n",
       "    }\n",
       "</style>\n",
       "<table border=\"1\" class=\"dataframe\">\n",
       "  <thead>\n",
       "    <tr style=\"text-align: right;\">\n",
       "      <th></th>\n",
       "      <th>created_at</th>\n",
       "      <th>username</th>\n",
       "      <th>text</th>\n",
       "    </tr>\n",
       "  </thead>\n",
       "  <tbody>\n",
       "    <tr>\n",
       "      <th>0</th>\n",
       "      <td>2022-07-17</td>\n",
       "      <td>_badrina</td>\n",
       "      <td>grab sampai $17! gojek $4.80 jer 🥰</td>\n",
       "    </tr>\n",
       "    <tr>\n",
       "      <th>1</th>\n",
       "      <td>2022-07-17</td>\n",
       "      <td>ckeker_THEBOYZ</td>\n",
       "      <td>Mengantri bersama abang-abang gojek~</td>\n",
       "    </tr>\n",
       "    <tr>\n",
       "      <th>2</th>\n",
       "      <td>2022-07-17</td>\n",
       "      <td>KooWifee</td>\n",
       "      <td>RT @gofoodindonesia: PESEN BANYAK MENU #REKOME...</td>\n",
       "    </tr>\n",
       "    <tr>\n",
       "      <th>3</th>\n",
       "      <td>2022-07-17</td>\n",
       "      <td>scharchive</td>\n",
       "      <td>@jowrnei iya btul kadang gojek pun susah dapet</td>\n",
       "    </tr>\n",
       "    <tr>\n",
       "      <th>4</th>\n",
       "      <td>2022-07-17</td>\n",
       "      <td>na_aghna</td>\n",
       "      <td>RT @gofoodindonesia: JANGAN SKIP KARENA #PASTI...</td>\n",
       "    </tr>\n",
       "    <tr>\n",
       "      <th>...</th>\n",
       "      <td>...</td>\n",
       "      <td>...</td>\n",
       "      <td>...</td>\n",
       "    </tr>\n",
       "    <tr>\n",
       "      <th>95</th>\n",
       "      <td>2022-07-17</td>\n",
       "      <td>restowfrandha</td>\n",
       "      <td>@umarghanis Tapi kadang kepikiran juga abang2 ...</td>\n",
       "    </tr>\n",
       "    <tr>\n",
       "      <th>96</th>\n",
       "      <td>2022-07-17</td>\n",
       "      <td>twridter</td>\n",
       "      <td>Keulang lagi kan, gegara gapernah make gojek d...</td>\n",
       "    </tr>\n",
       "    <tr>\n",
       "      <th>97</th>\n",
       "      <td>2022-07-17</td>\n",
       "      <td>markvestt</td>\n",
       "      <td>RT @renzuncart: help rt\\n\\n¡ wts / want to sel...</td>\n",
       "    </tr>\n",
       "    <tr>\n",
       "      <th>98</th>\n",
       "      <td>2022-07-17</td>\n",
       "      <td>MaharaniNurul10</td>\n",
       "      <td>RT @gofoodindonesia: EKSPRESIKU MELIHAT #GoFoo...</td>\n",
       "    </tr>\n",
       "    <tr>\n",
       "      <th>99</th>\n",
       "      <td>2022-07-17</td>\n",
       "      <td>yangbynn</td>\n",
       "      <td>RT @renzuncart: help rt\\n\\n¡ wts / want to sel...</td>\n",
       "    </tr>\n",
       "  </tbody>\n",
       "</table>\n",
       "<p>100 rows × 3 columns</p>\n",
       "</div>"
      ],
      "text/plain": [
       "    created_at         username  \\\n",
       "0   2022-07-17         _badrina   \n",
       "1   2022-07-17   ckeker_THEBOYZ   \n",
       "2   2022-07-17         KooWifee   \n",
       "3   2022-07-17       scharchive   \n",
       "4   2022-07-17         na_aghna   \n",
       "..         ...              ...   \n",
       "95  2022-07-17    restowfrandha   \n",
       "96  2022-07-17         twridter   \n",
       "97  2022-07-17        markvestt   \n",
       "98  2022-07-17  MaharaniNurul10   \n",
       "99  2022-07-17         yangbynn   \n",
       "\n",
       "                                                 text  \n",
       "0                  grab sampai $17! gojek $4.80 jer 🥰  \n",
       "1                Mengantri bersama abang-abang gojek~  \n",
       "2   RT @gofoodindonesia: PESEN BANYAK MENU #REKOME...  \n",
       "3      @jowrnei iya btul kadang gojek pun susah dapet  \n",
       "4   RT @gofoodindonesia: JANGAN SKIP KARENA #PASTI...  \n",
       "..                                                ...  \n",
       "95  @umarghanis Tapi kadang kepikiran juga abang2 ...  \n",
       "96  Keulang lagi kan, gegara gapernah make gojek d...  \n",
       "97  RT @renzuncart: help rt\\n\\n¡ wts / want to sel...  \n",
       "98  RT @gofoodindonesia: EKSPRESIKU MELIHAT #GoFoo...  \n",
       "99  RT @renzuncart: help rt\\n\\n¡ wts / want to sel...  \n",
       "\n",
       "[100 rows x 3 columns]"
      ]
     },
     "execution_count": 5,
     "metadata": {},
     "output_type": "execute_result"
    }
   ],
   "source": [
    "tweets_list = [[tweet.created_at, tweet.user.screen_name, tweet.text] for tweet in tweets]\n",
    "tweets_df = pd.DataFrame(tweets_list,columns=['created_at', 'username', 'text'])\n",
    "tweets_df['created_at'] = tweets_df['created_at'].apply(lambda a: pd.to_datetime(a).date())\n",
    "tweets_df"
   ]
  },
  {
   "cell_type": "code",
   "execution_count": 12,
   "id": "4945979f-dbf0-4639-a24e-9f46e88f8394",
   "metadata": {},
   "outputs": [],
   "source": [
    "tweets_df.to_excel(\"dataset1.xlsx\")  "
   ]
  }
 ],
 "metadata": {
  "kernelspec": {
   "display_name": "Python 3 (ipykernel)",
   "language": "python",
   "name": "python3"
  },
  "language_info": {
   "codemirror_mode": {
    "name": "ipython",
    "version": 3
   },
   "file_extension": ".py",
   "mimetype": "text/x-python",
   "name": "python",
   "nbconvert_exporter": "python",
   "pygments_lexer": "ipython3",
   "version": "3.9.1"
  }
 },
 "nbformat": 4,
 "nbformat_minor": 5
}
