{
 "cells": [
  {
   "cell_type": "code",
   "execution_count": 1,
   "id": "e54ed0b7-ab03-4471-b19c-ce080073e0a6",
   "metadata": {},
   "outputs": [],
   "source": [
    "import tweepy\n",
    "import webbrowser\n",
    "import time\n",
    "import json\n",
    "import pandas as pd"
   ]
  },
  {
   "cell_type": "code",
   "execution_count": 2,
   "id": "4ed863c0-8611-48c1-acae-61aee15c0dd7",
   "metadata": {},
   "outputs": [],
   "source": [
    "CONSUMER_KEY = 'IPTyQLrhaQsZLL1EzFi6maOBf'\n",
    "CONSUMER_SECRET = '0OjL8fROHAnVp0KXP6fK826bIPLHV77evK9lHEX5bDMDJngNCV'\n",
    "OAUTH_TOKEN = '1544980765401722880-sW2XfBUhkxHvYinFPnXMsuuuRWfHpv'\n",
    "OAUTH_TOKEN_SECRET = 'kAVrxua0E1qB0sxSVqsTDX4Q4rmJ8GsMLFnO9gzX3uYCg'\n",
    "BEARER_TOKEN = 'AAAAAAAAAAAAAAAAAAAAAPU6egEAAAAAo%2BPFAaiRgyARwOrme8d1b0eeYI4%3DtE9RP7lqvcYs7seGZoxgJVdMO5b3kpsMZNCFqKf5ZUExu6Kw71'"
   ]
  },
  {
   "cell_type": "code",
   "execution_count": 3,
   "id": "dab3210d-c2e1-42ae-be4b-f65c36b4d595",
   "metadata": {},
   "outputs": [
    {
     "name": "stdout",
     "output_type": "stream",
     "text": [
      "syaiifudin15\n"
     ]
    }
   ],
   "source": [
    "# Creating the authentication object\n",
    "auth = tweepy.OAuthHandler(CONSUMER_KEY, CONSUMER_SECRET)\n",
    "# Setting your access token and secret\n",
    "auth.set_access_token(OAUTH_TOKEN, OAUTH_TOKEN_SECRET)\n",
    "# Creating the API object while passing in auth information\n",
    "api = tweepy.API(auth) \n",
    "print(api.verify_credentials().screen_name)"
   ]
  },
  {
   "cell_type": "code",
   "execution_count": 4,
   "id": "52bc36f7-fefc-41b0-8895-1f9003103a3e",
   "metadata": {},
   "outputs": [],
   "source": [
    "query = 'gojek lang:id'\n",
    "\n",
    "# for page in tweepy.Cursor(api.search_full_archive,label='development', \n",
    "#                           query=query,\n",
    "#                           fromDate='202111130000',\n",
    "#                           toDate='202111170000',\n",
    "#                         maxResults=10).items(10):\n",
    "    \n",
    "#     parsedTweets.append('name' = page.in_reply_to_screen_name,'tweet'=>page.text,'created_at' => page.created_at)\n",
    "# parsedTweets\n",
    "tweets = tweepy.Cursor(api.search_tweets, \n",
    "                          q=query,\n",
    "                       count=100).items(100)"
   ]
  },
  {
   "cell_type": "code",
   "execution_count": 5,
   "id": "58d208a8-eb58-43c0-953b-8be2823168ce",
   "metadata": {},
   "outputs": [
    {
     "data": {
      "text/html": [
       "<div>\n",
       "<style scoped>\n",
       "    .dataframe tbody tr th:only-of-type {\n",
       "        vertical-align: middle;\n",
       "    }\n",
       "\n",
       "    .dataframe tbody tr th {\n",
       "        vertical-align: top;\n",
       "    }\n",
       "\n",
       "    .dataframe thead th {\n",
       "        text-align: right;\n",
       "    }\n",
       "</style>\n",
       "<table border=\"1\" class=\"dataframe\">\n",
       "  <thead>\n",
       "    <tr style=\"text-align: right;\">\n",
       "      <th></th>\n",
       "      <th>created_at</th>\n",
       "      <th>username</th>\n",
       "      <th>text</th>\n",
       "    </tr>\n",
       "  </thead>\n",
       "  <tbody>\n",
       "    <tr>\n",
       "      <th>0</th>\n",
       "      <td>2022-07-17</td>\n",
       "      <td>_badrina</td>\n",
       "      <td>grab sampai $17! gojek $4.80 jer 🥰</td>\n",
       "    </tr>\n",
       "    <tr>\n",
       "      <th>1</th>\n",
       "      <td>2022-07-17</td>\n",
       "      <td>ckeker_THEBOYZ</td>\n",
       "      <td>Mengantri bersama abang-abang gojek~</td>\n",
       "    </tr>\n",
       "    <tr>\n",
       "      <th>2</th>\n",
       "      <td>2022-07-17</td>\n",
       "      <td>KooWifee</td>\n",
       "      <td>RT @gofoodindonesia: PESEN BANYAK MENU #REKOME...</td>\n",
       "    </tr>\n",
       "    <tr>\n",
       "      <th>3</th>\n",
       "      <td>2022-07-17</td>\n",
       "      <td>scharchive</td>\n",
       "      <td>@jowrnei iya btul kadang gojek pun susah dapet</td>\n",
       "    </tr>\n",
       "    <tr>\n",
       "      <th>4</th>\n",
       "      <td>2022-07-17</td>\n",
       "      <td>na_aghna</td>\n",
       "      <td>RT @gofoodindonesia: JANGAN SKIP KARENA #PASTI...</td>\n",
       "    </tr>\n",
       "    <tr>\n",
       "      <th>...</th>\n",
       "      <td>...</td>\n",
       "      <td>...</td>\n",
       "      <td>...</td>\n",
       "    </tr>\n",
       "    <tr>\n",
       "      <th>95</th>\n",
       "      <td>2022-07-17</td>\n",
       "      <td>restowfrandha</td>\n",
       "      <td>@umarghanis Tapi kadang kepikiran juga abang2 ...</td>\n",
       "    </tr>\n",
       "    <tr>\n",
       "      <th>96</th>\n",
       "      <td>2022-07-17</td>\n",
       "      <td>twridter</td>\n",
       "      <td>Keulang lagi kan, gegara gapernah make gojek d...</td>\n",
       "    </tr>\n",
       "    <tr>\n",
       "      <th>97</th>\n",
       "      <td>2022-07-17</td>\n",
       "      <td>markvestt</td>\n",
       "      <td>RT @renzuncart: help rt\\n\\n¡ wts / want to sel...</td>\n",
       "    </tr>\n",
       "    <tr>\n",
       "      <th>98</th>\n",
       "      <td>2022-07-17</td>\n",
       "      <td>MaharaniNurul10</td>\n",
       "      <td>RT @gofoodindonesia: EKSPRESIKU MELIHAT #GoFoo...</td>\n",
       "    </tr>\n",
       "    <tr>\n",
       "      <th>99</th>\n",
       "      <td>2022-07-17</td>\n",
       "      <td>yangbynn</td>\n",
       "      <td>RT @renzuncart: help rt\\n\\n¡ wts / want to sel...</td>\n",
       "    </tr>\n",
       "  </tbody>\n",
       "</table>\n",
       "<p>100 rows × 3 columns</p>\n",
       "</div>"
      ],
      "text/plain": [
       "    created_at         username  \\\n",
       "0   2022-07-17         _badrina   \n",
       "1   2022-07-17   ckeker_THEBOYZ   \n",
       "2   2022-07-17         KooWifee   \n",
       "3   2022-07-17       scharchive   \n",
       "4   2022-07-17         na_aghna   \n",
       "..         ...              ...   \n",
       "95  2022-07-17    restowfrandha   \n",
       "96  2022-07-17         twridter   \n",
       "97  2022-07-17        markvestt   \n",
       "98  2022-07-17  MaharaniNurul10   \n",
       "99  2022-07-17         yangbynn   \n",
       "\n",
       "                                                 text  \n",
       "0                  grab sampai $17! gojek $4.80 jer 🥰  \n",
       "1                Mengantri bersama abang-abang gojek~  \n",
       "2   RT @gofoodindonesia: PESEN BANYAK MENU #REKOME...  \n",
       "3      @jowrnei iya btul kadang gojek pun susah dapet  \n",
       "4   RT @gofoodindonesia: JANGAN SKIP KARENA #PASTI...  \n",
       "..                                                ...  \n",
       "95  @umarghanis Tapi kadang kepikiran juga abang2 ...  \n",
       "96  Keulang lagi kan, gegara gapernah make gojek d...  \n",
       "97  RT @renzuncart: help rt\\n\\n¡ wts / want to sel...  \n",
       "98  RT @gofoodindonesia: EKSPRESIKU MELIHAT #GoFoo...  \n",
       "99  RT @renzuncart: help rt\\n\\n¡ wts / want to sel...  \n",
       "\n",
       "[100 rows x 3 columns]"
      ]
     },
     "execution_count": 5,
     "metadata": {},
     "output_type": "execute_result"
    }
   ],
   "source": [
    "tweets_list = [[tweet.created_at, tweet.user.screen_name, tweet.text] for tweet in tweets]\n",
    "tweets_df = pd.DataFrame(tweets_list,columns=['created_at', 'username', 'text'])\n",
    "tweets_df['created_at'] = tweets_df['created_at'].apply(lambda a: pd.to_datetime(a).date())\n",
    "tweets_df"
   ]
  },
  {
   "cell_type": "code",
   "execution_count": 11,
   "id": "4945979f-dbf0-4639-a24e-9f46e88f8394",
   "metadata": {},
   "outputs": [
    {
     "data": {
      "text/plain": [
       "'created_at,username,text\\r\\n2022-07-17,_badrina,grab sampai $17! gojek $4.80 jer 🥰\\r\\n2022-07-17,ckeker_THEBOYZ,Mengantri bersama abang-abang gojek~\\r\\n2022-07-17,KooWifee,\"RT @gofoodindonesia: PESEN BANYAK MENU #REKOMENDASIKGOFOOD ONGKIRNYA SEKALI AJA~\\n\\nMau makan banyak dari berbagai resto cukup bayar ongkir s…\"\\r\\n2022-07-17,scharchive,@jowrnei iya btul kadang gojek pun susah dapet\\r\\n2022-07-17,na_aghna,\"RT @gofoodindonesia: JANGAN SKIP KARENA #PASTIADAPROMO SAMPE 120RIBU BUAT KAMU!\\n\\nMau makan hemat yang enak dan gak pake lama, menu #Dapurbe…\"\\r\\n2022-07-17,lemonyakult_,@tanyakanrl Yang ldr chatnya pake gojek aja ya guys. Aplikasi anak bangsa ga mungkin diblokir😔☝️\\r\\n2022-07-17,pusikiciw,enak gojek ap\\r\\n2022-07-17,chipuyul,\"akhirnya ku pesan gojek untuk balik, karena gramed di mall terdekat w kagak ada apa-apanya trus pas aku udah nyampe… https://t.co/L6BWDGt2AJ\"\\r\\n2022-07-17,feinley,\"@PlRATEEZKING Yok\\nOPEN VERIF isat 30 aguatus &amp;  17 september\\n\\nverif sehat: 3/4k\\nSemi : 4k/5k\\nLock/create: 4/5k\\nKhus… https://t.co/u3MX5Iu3Zj\"\\r\\n2022-07-17,gojekindonesia,\"@cokeanie Hai Kak, mohon diinformasikan detail kendala yang kamu alami dan nomor telepon yang terdaftar diakun Goje… https://t.co/s9YrIqySzn\"\\r\\n2022-07-17,lolypop_girlss,Wtb voucher gomart dong.. ada yang punya di gojek? #zonauang #zonajajan\\r\\n2022-07-17,nay_liabee,\"RT @renzuncart: help rt\\n\\n¡ wts / want to sell !\\n\\npc renjun weboom (boom)/gojek pair cc renjun weboom\\n\\n✎ lil damage\\n✎ detail condi &gt; dm (bol…\"\\r\\n2022-07-17,miniarmy0613,\"RT @gofoodindonesia: PESEN BANYAK MENU #REKOMENDASIKGOFOOD ONGKIRNYA SEKALI AJA~\\n\\nMau makan banyak dari berbagai resto cukup bayar ongkir s…\"\\r\\n2022-07-17,beIovedkouhai,\"RT @p_starfish11: @tiwwwwtiwwwww @tilehopper @kemkominfo jadi simpelnya gini mbak, internet itu saling bergantung satu sama lain, misal kan…\"\\r\\n2022-07-17,gojekindonesia,\"@xxxrutoyaa Hai Kak, mohon maaf sebelumnya, mohon untuk melampirkan nomor telepon yang terdaftar diakun Gojek kamu… https://t.co/CLQaBftqhL\"\\r\\n2022-07-17,cokeanie,satu akun gojek bisa buat 2 nomor ga ya? @gojekindonesia\\r\\n2022-07-17,jjeonwonuluv,@nonujjeeon LUCU BANGET GOJEK NYA 😭😭😭\\r\\n2022-07-17,ridputra3,@UrFavBoy1703 Minat jadi Abang Gojek\\r\\n2022-07-17,dreamiegguk,\"RT @gofoodindonesia: PESEN BANYAK MENU #REKOMENDASIKGOFOOD ONGKIRNYA SEKALI AJA~\\n\\nMau makan banyak dari berbagai resto cukup bayar ongkir s…\"\\r\\n2022-07-17,dncokja,\"@khanssaaaaa Gojek kan banh, apa sopifut\"\\r\\n2022-07-17,goldenJK9791,\"RT @gofoodindonesia: PESEN BANYAK MENU #REKOMENDASIKGOFOOD ONGKIRNYA SEKALI AJA~\\n\\nMau makan banyak dari berbagai resto cukup bayar ongkir s…\"\\r\\n2022-07-17,needtyzyn,\"Trus dia seneng banget udh bisa pake app gojek, dia kerja disalah satu perusahaan teknologi. Gue lupa nanya namanya… https://t.co/I5ZOMndgJi\"\\r\\n2022-07-17,nonujjeeon,\"ak pas ngambil kue nya tbtb bapak gojek nya ngucapin sama nyanyiin lagu ulang tahun, hshsh padahal yang ultah ayankk 😭😭😭😭😭😭😭\"\\r\\n2022-07-17,taerrybearr,\"RT @gofoodindonesia: PESEN BANYAK MENU #REKOMENDASIKGOFOOD ONGKIRNYA SEKALI AJA~\\n\\nMau makan banyak dari berbagai resto cukup bayar ongkir s…\"\\r\\n2022-07-17,calvinz777,Ada yang punya voucher gomart gak di gojek? #zonauang #zonaba #zonabu #zonajajan\\r\\n2022-07-17,Dianisyati,\"RT @sbyfess: -rek buat kalian yang lagi di driyorejo, yuk beli SANTHAI TEA. Ada kebab, dan minuman2 boba. Bisa pesen lewat gojek juga. Loka…\"\\r\\n2022-07-17,meluvyeol,\"yg butuh voucher gojek gosend, dm aja. gratis. mau nambah xp aja hihihi https://t.co/NOQwk56oic\"\\r\\n2022-07-17,yunhoaxx,\"@yeoxjack mau, tp pas wkt lwt rame bgt trs prnh mau pesen gojek abangnya ga mau soalnya ngantrinya panjang🥺\"\\r\\n2022-07-17,yoongiineffable,\"RT @gofoodindonesia: EKSPRESIKU MELIHAT #GoFoodxBTS SETIAP HARI🥰\\n\\nMakin bahagia saat tau berjuta #RekomendAsikGoFood semua #PastiAdaPromony…\"\\r\\n2022-07-17,dearpreshit,\"@2It2Yu Bisa, tapi nanti nyambung lagi naik gojek\"\\r\\n2022-07-17,bwiijoon,\"RT @gofoodindonesia: PESEN BANYAK MENU #REKOMENDASIKGOFOOD ONGKIRNYA SEKALI AJA~\\n\\nMau makan banyak dari berbagai resto cukup bayar ongkir s…\"\\r\\n2022-07-17,bukanbiru_,\"RT @bukanbiru_: Wts promo gojek goride gocar gofood #WTS #zonauang #zonaBU #zonaba https://t.co/kqQ351cuXk\\n\\nBisaaaa wa ke sinii ya https://…\"\\r\\n2022-07-17,lisaisnind17,\"Shopee Gojek yg tadinya menyedot pengangguran aja sdh mengurangi karyawan\\nPabrik\"\" banyak ikutan nanti ada masa dima… https://t.co/Q7kHvzLwOo\"\\r\\n2022-07-17,calmjeno,Wtb voucher gojek yang ufah g+ #zonauang\\r\\n2022-07-17,kakhansol,@tsk4ily hoalaaa wkwk bru tauuu gapernah pake gojek\\r\\n2022-07-17,tsk4ily,\"@kakhansol aku baca di tnc sih semacam komisi buat gojek gt, kalau biaya app/platform kan di bayar pas co deh setau… https://t.co/3LSI1obfJr\"\\r\\n2022-07-17,MOCHISUCK,@APHRDlTE_ ya allahh dia naeh gojek????\\r\\n2022-07-17,ethenary,masih ada ini wts voucher gojek goride + gocar terakhir hari ini yukk https://t.co/vpGeU9Lwby https://t.co/Y298RelWlt\\r\\n2022-07-17,hasanubdllh,\"@convomfs Ga, masukin tangan kedalem saku hoodie nya abang gojek\"\\r\\n2022-07-17,semesta_humanis,\"@YoGojekYo @cumaakunreceh Kalo urusan babi okelah silahkan, tp kalo miras pas anda antar trnyata pemesan anak d baw… https://t.co/YAyTEB5azV\"\\r\\n2022-07-17,bro_kayyaaa,\"wts voucher gojek\\ngocar potongan 11k #zonauang\"\\r\\n2022-07-17,Adhit_1909,\"\"\"Sebagaimana Peraturan Menteri Komunikasi dan Informatika Nomor 5 Tahun 2020 tentang Penyelenggara Sistem Elektroni… https://t.co/l7iyw5bfpv\"\\r\\n2022-07-17,_dnnr_,Sisa 1 voucher ahahaha makasih gojek\\r\\n2022-07-17,fullsunkisseds,gojek ke gua knpa pelit banget sii????? https://t.co/GY0utKztaa\\r\\n2022-07-17,kaaa_chaan,\"Gue capek banget hari ini😪 luv banget buat abang2 gojek yang ga ngajakin gue ngobrol, hhh gue ngomong aja males bgt rasanya\"\\r\\n2022-07-17,OW0LV,\"RT @renzuncart: help rt\\n\\n¡ wts / want to sell !\\n\\npc renjun weboom (boom)/gojek pair cc renjun weboom\\n\\n✎ lil damage\\n✎ detail condi &gt; dm (bol…\"\\r\\n2022-07-17,ciaowbello,@convomfs aku kalo naik gojek jarang antara abangnya sama aku sekitar satu meter 🤏\\r\\n2022-07-17,sictusempra,@gojekindonesia kakak gojek ini kenapa ya? Gabisa pakai jadinya. Tolong dibantu 😭 https://t.co/MYaSS18tzt\\r\\n2022-07-17,5c0rp1091rl,Tbtb mau ke taman pulomas sendirian naek gojek wkwk sabi x y\\r\\n2022-07-17,seolariea,@schfess aku waktu sma gini 😔 uang jajan perharinya 50k tp gojek pp paling kecil 40k 😔 ngakalinnya ya kalo ada uang… https://t.co/O88A6h2FJG\\r\\n2022-07-17,Si_kool,\"RT @Gojekmilitan: Assalamualaikum\\nSahabat Gojek Militan\\n\\nPagi Para Pejuang Sepertiga Malam \\n\\nYa Allah Mudahkanlah Segala urusan kami, Ringa…\"\\r\\n2022-07-17,eryntmn,@Saltedeggnoid Kayaknya karna minggu deh. Aku yg biasa pake gojek move grab skrg🥲\\r\\n2022-07-17,ketekbetmen,\"Giliran lg dinas, butuh makan dah laper, gojek app nya malah error kenapa sih bikin makin stress dan bete aja. Udh… https://t.co/LKb8bJHU0C\"\\r\\n2022-07-17,xxxrutoyaa,\"Halo admin @gojekindonesia, adekku baru buat akun baru tapi kayanya kena softbanned gitu ya? Soalnya ga ada voucher… https://t.co/L82Qu5zazF\"\\r\\n2022-07-17,putuneembahee,@tanyakanrl Chatannya pakek gojek atau shopee aja guys\\r\\n2022-07-17,pelipurmu,@FWBSmg Sharelock mengko dipetuk gojek nder hehehe\\r\\n2022-07-17,lulur,@mlesmkir mau balik jadi gojek\\r\\n2022-07-17,pacaraladdin,\"ini gojek pelit promo banget deh akhir akhir ini, gua mau pergi jadi males anjir mahal bgt ongkosnya\"\\r\\n2022-07-17,worstweeekever,\"@schfess dulu aku jaman sekolah uang jajan sehari 10 rb, tapi gojekku bisa 30 rb untuk pp :D\\n\\ndulu gapunya motor jd… https://t.co/8P7ETNdhBO\"\\r\\n2022-07-17,zeuwhos,\"@eskrimvanilaa1 ngga perlu kak, yang penting ada foto sblm kemasan dibuka, setelah dibuka, sama struknya. trs kompl… https://t.co/sBFUS3JNNC\"\\r\\n2022-07-17,chsbinie_,@adikbumyu Gojek aja\\r\\n2022-07-17,haechanchie,\"RT @renzuncart: help rt\\n\\n¡ wts / want to sell !\\n\\npc renjun weboom (boom)/gojek pair cc renjun weboom\\n\\n✎ lil damage\\n✎ detail condi &gt; dm (bol…\"\\r\\n2022-07-17,iniadalahfhd,\"Halo admin @gojekindonesia, akunku kena softbanned ya? Soalnya udah gak pernah dapet voucher goride, gocar, gofood… https://t.co/kdcAABDmsO\"\\r\\n2022-07-17,brillieshot,@_milnyu dia mau pesen gojek\\r\\n2022-07-17,falling_fleur,\"RT @tilehopper: my man that\\'s the same thing. \\n\\n\"\"oh enggak kok, kita ga blokir internet, tapi blokir situs punya Facebook, Google yang belu…\"\\r\\n2022-07-17,bybeminniez,Pas gw tanya di chat tu gojek stlh 20 mnt dia bru bales “otw” kan wtf anjir dr tdi 20 mnt ngapain aja di maps nya g… https://t.co/UBtftTcXda\\r\\n2022-07-17,xxm_rk,\"wts voucher gojek\\ngosend diskon 9k\\nfee 1,5k/voc https://t.co/F0tO3DYeSX\"\\r\\n2022-07-17,sicwkue,bentar mwu gojek kopken\\r\\n2022-07-17,frivolousfolks,@miselattey tp tkut ancur klo pake gojek\\r\\n2022-07-17,astrock_yyy,sekarang gojek vouchernya harus satu2? Gabisa gabung voucher toko sm voucher akun ya?\\r\\n2022-07-17,bybeminniez,\"Nih ya mau jalan jelek kek jalan lagi di cor gw ga peduli, salah sndiri ga ngomong dr awal, nih driver gojek ngapa… https://t.co/KPSmUK8YzY\"\\r\\n2022-07-17,nunnarenjun00,\"RT @renzuncart: help rt\\n\\n¡ wts / want to sell !\\n\\npc renjun weboom (boom)/gojek pair cc renjun weboom\\n\\n✎ lil damage\\n✎ detail condi &gt; dm (bol…\"\\r\\n2022-07-17,fislovemu,gojek bs ga platform feeny d murahin\\r\\n2022-07-17,enthusunsun,@emacjsl Di gojek coba pasti banyak ada\\r\\n2022-07-17,najaeminjeno,\"RT @renzuncart: help rt\\n\\n¡ wts / want to sell !\\n\\npc renjun weboom (boom)/gojek pair cc renjun weboom\\n\\n✎ lil damage\\n✎ detail condi &gt; dm (bol…\"\\r\\n2022-07-17,pulpenku_,gacoan tebet di sopifud sama gojek kok tutup terus ya\\r\\n2022-07-17,paracoshm,TAI INI GOJEK BAN NYA KAYA MAU COPOT GUE NGERI SENDIRI\\r\\n2022-07-17,novaalmeyda_,@SUNDA_FESS Gojek\\r\\n2022-07-17,ourspaece,\"Wts voucher go ride sama go car. Payment gopay only\\nFee goride 2k, gocar 3k. Bisa cek harga dulu\\n\\nFast resp wa… https://t.co/Ry0paseGNW\"\\r\\n2022-07-17,ourspaece,\"Wts voucher gosend instant 25% maks 10k\\nFee 2k. Bisa cek harga dulu\\n\\nFast resp: https://t.co/wXPyC72q6F\\nT. Voc go s… https://t.co/resfqccB1I\"\\r\\n2022-07-17,sourjeno23,\"Halo admin @gojekindonesia, akunku kena softbanned ya? Soalnya udah gak pernah dapet voucher goride, gocar, gofood… https://t.co/9sY5xoUs5r\"\\r\\n2022-07-17,hdeevn,\"@ksbpcn @adityajambule @anteraja_id Aku ngajuin refund tgl 14 Januari. Waktu itu aku pake gopay.\\nProsesnya dari pen… https://t.co/G7BEq9v8Ol\"\\r\\n2022-07-17,ilenmisel,\"alias lama bgtt cuyy maxim, kl gojek/grab kn ngmbil dr lokasi trdekat tp kl maxim mau dari mana aja pstii ttep digas\"\\r\\n2022-07-17,jekeyy97_,\"RT @gofoodindonesia: EKSPRESIKU MELIHAT #GoFoodxBTS SETIAP HARI🥰\\n\\nMakin bahagia saat tau berjuta #RekomendAsikGoFood semua #PastiAdaPromony…\"\\r\\n2022-07-17,jekeyy97_,\"RT @gofoodindonesia: Makanan dari berbagai resto, ordernya cukup sekali!\\n\\nMau pizza, burger, atau apapun itu bisa langsung kamu pesan semua…\"\\r\\n2022-07-17,nitaatrisna,Kapok w jualan voucher gOjek😭 hp sampe ngelag astaghfirullah bnyk bgt dm masuk😭🙏\\r\\n2022-07-17,jekeyy97_,\"RT @gofoodindonesia: Annyeong! Semangat Senin buat GoFoodies semua dari #PastiAdaPromo Senin kita hari ini 💜\\n\\nMakin semangat pas tau ada di…\"\\r\\n2022-07-17,jekeyy97_,\"RT @gofoodindonesia: PESEN BANYAK MENU #REKOMENDASIKGOFOOD ONGKIRNYA SEKALI AJA~\\n\\nMau makan banyak dari berbagai resto cukup bayar ongkir s…\"\\r\\n2022-07-17,jekeyy97_,\"RT @gofoodindonesia: JANGAN SAMPE KELEWATAN #PASTIADAPROMO RABU HARI INI!\\n\\nKapan lagi diingetin kalo GoFood lagi ada diskon ongkir 😍 Nggak…\"\\r\\n2022-07-17,vi_nda_,@SUNDA_FESS gojek\\r\\n2022-07-17,tkusumaw81,\"Nah kocaknya lagi ni  mau blokir google. Oke tau gak masalah GMS? Tokopedia, gojek, grab, michat dll, emang bs jala… https://t.co/axRToaN685\"\\r\\n2022-07-17,rumputlautmylov,Jsjskak ga seru bgt gojek voc nya cuma boleh make 1 aja skrng &gt;:( cara downgrade app gojek gmna si keupdate sndiri soalnya\\r\\n2022-07-17,ghssnhp,\"@aidakhanif pergelangan tanganku jg dak, udah kyk driver gojek \\n\\nmain indoor sih yg aman ya tapi ya dimana wkwkk\"\\r\\n2022-07-17,sbtnohyuck,\"RT @renzuncart: help rt\\n\\n¡ wts / want to sell !\\n\\npc renjun weboom (boom)/gojek pair cc renjun weboom\\n\\n✎ lil damage\\n✎ detail condi &gt; dm (bol…\"\\r\\n2022-07-17,winterdxll,\"Gojek ngechat kujawab \"\"siap nder\"\" puki puki kebanyakan maen di base awak\"\\r\\n2022-07-17,restowfrandha,@umarghanis Tapi kadang kepikiran juga abang2 gojek nya kejauhan ga ya wkwk\\r\\n2022-07-17,twridter,\"Keulang lagi kan, gegara gapernah make gojek dilubas, sekalinya pake gojek di Padang malah manggil drivernya mas/ a 🙂\"\\r\\n2022-07-17,markvestt,\"RT @renzuncart: help rt\\n\\n¡ wts / want to sell !\\n\\npc renjun weboom (boom)/gojek pair cc renjun weboom\\n\\n✎ lil damage\\n✎ detail condi &gt; dm (bol…\"\\r\\n2022-07-17,MaharaniNurul10,\"RT @gofoodindonesia: EKSPRESIKU MELIHAT #GoFoodxBTS SETIAP HARI🥰\\n\\nMakin bahagia saat tau berjuta #RekomendAsikGoFood semua #PastiAdaPromony…\"\\r\\n2022-07-17,yangbynn,\"RT @renzuncart: help rt\\n\\n¡ wts / want to sell !\\n\\npc renjun weboom (boom)/gojek pair cc renjun weboom\\n\\n✎ lil damage\\n✎ detail condi &gt; dm (bol…\"\\r\\n'"
      ]
     },
     "execution_count": 11,
     "metadata": {},
     "output_type": "execute_result"
    }
   ],
   "source": [
    "tweets_df.to_excel(\"output.xlsx\")  "
   ]
  },
  {
   "cell_type": "code",
   "execution_count": null,
   "id": "41198728-ca9d-47d6-a3e6-c06b9d1893d8",
   "metadata": {},
   "outputs": [],
   "source": []
  },
  {
   "cell_type": "code",
   "execution_count": null,
   "id": "35190a59-8fb0-4323-8791-146e9eff16c3",
   "metadata": {},
   "outputs": [],
   "source": []
  }
 ],
 "metadata": {
  "kernelspec": {
   "display_name": "Python 3 (ipykernel)",
   "language": "python",
   "name": "python3"
  },
  "language_info": {
   "codemirror_mode": {
    "name": "ipython",
    "version": 3
   },
   "file_extension": ".py",
   "mimetype": "text/x-python",
   "name": "python",
   "nbconvert_exporter": "python",
   "pygments_lexer": "ipython3",
   "version": "3.9.1"
  }
 },
 "nbformat": 4,
 "nbformat_minor": 5
}
