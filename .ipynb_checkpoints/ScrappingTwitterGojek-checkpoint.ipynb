{
 "cells": [
  {
   "cell_type": "code",
   "execution_count": 1,
   "id": "e54ed0b7-ab03-4471-b19c-ce080073e0a6",
   "metadata": {},
   "outputs": [],
   "source": [
    "#import library\n",
    "import tweepy\n",
    "import webbrowser\n",
    "import time\n",
    "import json\n",
    "import pandas as pd"
   ]
  },
  {
   "cell_type": "code",
   "execution_count": 2,
   "id": "4ed863c0-8611-48c1-acae-61aee15c0dd7",
   "metadata": {},
   "outputs": [],
   "source": [
    "CONSUMER_KEY = 'ZtLli7CHI5mrhJ8JqrWcjRm1R'\n",
    "CONSUMER_SECRET = 'VAqJGAwHXALuWTBy07pT5lNQC5sAi3iW5QTItWoQhAWIjqWShE'\n",
    "OAUTH_TOKEN = '1544980765401722880-HRDPj3e6TLkw7Asi1YV4UddJUZ1W9E'\n",
    "OAUTH_TOKEN_SECRET = 'FVVHb30bYBJfNP1zqQ71PmbZe7NsjPsshvuajnweduYLC'\n",
    "BEARER_TOKEN = 'AAAAAAAAAAAAAAAAAAAAAPU6egEAAAAAeEqsGvidokk62Wqn%2FvWPRQOJJ1M%3D99faNg981uTlW9xa6O7Plr3DwH4NYyUPXUUuZdJMRdXzPwZnGZ'"
   ]
  },
  {
   "cell_type": "code",
   "execution_count": 3,
   "id": "dab3210d-c2e1-42ae-be4b-f65c36b4d595",
   "metadata": {},
   "outputs": [
    {
     "name": "stdout",
     "output_type": "stream",
     "text": [
      "syaiifudin15\n"
     ]
    }
   ],
   "source": [
    "# Creating the authentication object\n",
    "auth = tweepy.OAuthHandler(CONSUMER_KEY, CONSUMER_SECRET)\n",
    "# Setting your access token and secret\n",
    "auth.set_access_token(OAUTH_TOKEN, OAUTH_TOKEN_SECRET)\n",
    "# Creating the API object while passing in auth information\n",
    "api = tweepy.API(auth) \n",
    "print(api.verify_credentials().screen_name)"
   ]
  },
  {
   "cell_type": "code",
   "execution_count": 4,
   "id": "52bc36f7-fefc-41b0-8895-1f9003103a3e",
   "metadata": {},
   "outputs": [],
   "source": [
    "query = 'gojek lang:id'\n",
    "\n",
    " for page in tweepy.Cursor(api.search_full_archive,label='development', \n",
    "                           query=query,\n",
    "                           fromDate='202111130000',\n",
    "                           toDate='202111170000',\n",
    "                         maxResults=10).items(10):\n",
    "    \n",
    "#     parsedTweets.append('name' = page.in_reply_to_screen_name,'tweet'=>page.text,'created_at' => page.created_at)\n",
    "# parsedTweets\n",
    "tweets = tweepy.Cursor(api.search_tweets, q=query,\n",
    "                       count=200).items(200)"
   ]
  },
  {
   "cell_type": "code",
   "execution_count": 5,
   "id": "58d208a8-eb58-43c0-953b-8be2823168ce",
   "metadata": {},
   "outputs": [
    {
     "data": {
      "text/html": [
       "<div>\n",
       "<style scoped>\n",
       "    .dataframe tbody tr th:only-of-type {\n",
       "        vertical-align: middle;\n",
       "    }\n",
       "\n",
       "    .dataframe tbody tr th {\n",
       "        vertical-align: top;\n",
       "    }\n",
       "\n",
       "    .dataframe thead th {\n",
       "        text-align: right;\n",
       "    }\n",
       "</style>\n",
       "<table border=\"1\" class=\"dataframe\">\n",
       "  <thead>\n",
       "    <tr style=\"text-align: right;\">\n",
       "      <th></th>\n",
       "      <th>created_at</th>\n",
       "      <th>username</th>\n",
       "      <th>text</th>\n",
       "    </tr>\n",
       "  </thead>\n",
       "  <tbody>\n",
       "    <tr>\n",
       "      <th>0</th>\n",
       "      <td>2023-02-14</td>\n",
       "      <td>potatoeby</td>\n",
       "      <td>baru plg jam segini, pinggang dah pegel, anemi...</td>\n",
       "    </tr>\n",
       "    <tr>\n",
       "      <th>1</th>\n",
       "      <td>2023-02-14</td>\n",
       "      <td>ikaalaksita</td>\n",
       "      <td>Inovasi Gojek emang ga pernah gagal ya , selal...</td>\n",
       "    </tr>\n",
       "    <tr>\n",
       "      <th>2</th>\n",
       "      <td>2023-02-14</td>\n",
       "      <td>orchidmalevolen</td>\n",
       "      <td>@fairietrace jgn manja ada gojek</td>\n",
       "    </tr>\n",
       "    <tr>\n",
       "      <th>3</th>\n",
       "      <td>2023-02-14</td>\n",
       "      <td>wanitagustus</td>\n",
       "      <td>@Enneagramos Okay bebebbbb tar dipaketin pake ...</td>\n",
       "    </tr>\n",
       "    <tr>\n",
       "      <th>4</th>\n",
       "      <td>2023-02-14</td>\n",
       "      <td>eIandio</td>\n",
       "      <td>@jiungwoo @dearestlune Mbak nanti diakherat se...</td>\n",
       "    </tr>\n",
       "    <tr>\n",
       "      <th>...</th>\n",
       "      <td>...</td>\n",
       "      <td>...</td>\n",
       "      <td>...</td>\n",
       "    </tr>\n",
       "    <tr>\n",
       "      <th>195</th>\n",
       "      <td>2023-02-14</td>\n",
       "      <td>ZakyMbarok</td>\n",
       "      <td>@abdurrahmanalf_ Ternyata ybs udah ditandain s...</td>\n",
       "    </tr>\n",
       "    <tr>\n",
       "      <th>196</th>\n",
       "      <td>2023-02-14</td>\n",
       "      <td>seimeistellata</td>\n",
       "      <td>@NitaSellya ngapain capek lari2 dari UI ke mar...</td>\n",
       "    </tr>\n",
       "    <tr>\n",
       "      <th>197</th>\n",
       "      <td>2023-02-14</td>\n",
       "      <td>gaettoek</td>\n",
       "      <td>Tadi naik gojek pas sampai akunya langsung per...</td>\n",
       "    </tr>\n",
       "    <tr>\n",
       "      <th>198</th>\n",
       "      <td>2023-02-14</td>\n",
       "      <td>nisrinaqonita</td>\n",
       "      <td>bs bangkrut sy yh kl naik gojek bolbal 4x gini...</td>\n",
       "    </tr>\n",
       "    <tr>\n",
       "      <th>199</th>\n",
       "      <td>2023-02-14</td>\n",
       "      <td>tahuoncomdage</td>\n",
       "      <td>@ceoribellen @tanpatelur @FOODFESS2 bukan cuma...</td>\n",
       "    </tr>\n",
       "  </tbody>\n",
       "</table>\n",
       "<p>200 rows × 3 columns</p>\n",
       "</div>"
      ],
      "text/plain": [
       "     created_at         username  \\\n",
       "0    2023-02-14        potatoeby   \n",
       "1    2023-02-14      ikaalaksita   \n",
       "2    2023-02-14  orchidmalevolen   \n",
       "3    2023-02-14     wanitagustus   \n",
       "4    2023-02-14          eIandio   \n",
       "..          ...              ...   \n",
       "195  2023-02-14       ZakyMbarok   \n",
       "196  2023-02-14   seimeistellata   \n",
       "197  2023-02-14         gaettoek   \n",
       "198  2023-02-14    nisrinaqonita   \n",
       "199  2023-02-14    tahuoncomdage   \n",
       "\n",
       "                                                  text  \n",
       "0    baru plg jam segini, pinggang dah pegel, anemi...  \n",
       "1    Inovasi Gojek emang ga pernah gagal ya , selal...  \n",
       "2                     @fairietrace jgn manja ada gojek  \n",
       "3    @Enneagramos Okay bebebbbb tar dipaketin pake ...  \n",
       "4    @jiungwoo @dearestlune Mbak nanti diakherat se...  \n",
       "..                                                 ...  \n",
       "195  @abdurrahmanalf_ Ternyata ybs udah ditandain s...  \n",
       "196  @NitaSellya ngapain capek lari2 dari UI ke mar...  \n",
       "197  Tadi naik gojek pas sampai akunya langsung per...  \n",
       "198  bs bangkrut sy yh kl naik gojek bolbal 4x gini...  \n",
       "199  @ceoribellen @tanpatelur @FOODFESS2 bukan cuma...  \n",
       "\n",
       "[200 rows x 3 columns]"
      ]
     },
     "execution_count": 5,
     "metadata": {},
     "output_type": "execute_result"
    }
   ],
   "source": [
    "tweets_list = [[tweet.created_at, tweet.user.screen_name, tweet.text] for tweet in tweets]\n",
    "tweets_df = pd.DataFrame(tweets_list,columns=['created_at', 'username', 'text'])\n",
    "tweets_df['created_at'] = tweets_df['created_at'].apply(lambda a: pd.to_datetime(a).date())\n",
    "tweets_df"
   ]
  },
  {
   "cell_type": "code",
   "execution_count": 6,
   "id": "4945979f-dbf0-4639-a24e-9f46e88f8394",
   "metadata": {},
   "outputs": [],
   "source": [
    "#Creating and save dataset to excel\n",
    "tweets_df.to_excel(\"datagojek31.xlsx\")  "
   ]
  }
 ],
 "metadata": {
  "kernelspec": {
   "display_name": "Python 3 (ipykernel)",
   "language": "python",
   "name": "python3"
  },
  "language_info": {
   "codemirror_mode": {
    "name": "ipython",
    "version": 3
   },
   "file_extension": ".py",
   "mimetype": "text/x-python",
   "name": "python",
   "nbconvert_exporter": "python",
   "pygments_lexer": "ipython3",
   "version": "3.9.1"
  }
 },
 "nbformat": 4,
 "nbformat_minor": 5
}
