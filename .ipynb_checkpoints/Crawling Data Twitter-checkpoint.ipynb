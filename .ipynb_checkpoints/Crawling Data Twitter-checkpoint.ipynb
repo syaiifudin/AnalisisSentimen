{
 "cells": [
  {
   "cell_type": "code",
   "execution_count": 1,
   "id": "8ec218f0",
   "metadata": {},
   "outputs": [],
   "source": [
    "import tweepy\n",
    "import webbrowser\n",
    "import time\n",
    "import json\n",
    "import pandas as pd"
   ]
  },
  {
   "cell_type": "code",
   "execution_count": 2,
   "id": "479d3ea5",
   "metadata": {},
   "outputs": [],
   "source": [
    "CONSUMER_KEY = 'ePAZQP8nAxVlGvM3NF4uTITKu'\n",
    "CONSUMER_SECRET = 'Z51V2yv6w1VQJlZzjBX0m4y33dVj4HRCSgyUZLL1JswwEmueVy'\n",
    "OAUTH_TOKEN = '1542059811235590145-1EnWFIXzRm9dbBABUlEhR2HeLyTn3b'\n",
    "OAUTH_TOKEN_SECRET = 'Apf3m9e86ZqiMbnE19MIcpdCm0xTfHCVAPNxLMpXwWDyl'\n",
    "BEARER_TOKEN = 'AAAAAAAAAAAAAAAAAAAAAPAYeQEAAAAA78vz0cFyYH49TDL1JT8Z1ek2qn0%3DBtEPcrbpTwklxjsaMejyHDN4f3XNWSqin3EYzmYhJzxvF3CYQJ'"
   ]
  },
  {
   "cell_type": "code",
   "execution_count": 3,
   "id": "5541a670",
   "metadata": {},
   "outputs": [
    {
     "name": "stdout",
     "output_type": "stream",
     "text": [
      "sakazukiSieraa\n"
     ]
    }
   ],
   "source": [
    "# Creating the authentication object\n",
    "auth = tweepy.OAuthHandler(CONSUMER_KEY, CONSUMER_SECRET)\n",
    "# Setting your access token and secret\n",
    "auth.set_access_token(OAUTH_TOKEN, OAUTH_TOKEN_SECRET)\n",
    "# Creating the API object while passing in auth information\n",
    "api = tweepy.API(auth) \n",
    "print(api.verify_credentials().screen_name)"
   ]
  },
  {
   "cell_type": "code",
   "execution_count": 4,
   "id": "ed90828f",
   "metadata": {},
   "outputs": [],
   "source": [
    "query = 'kuliah daring lang:id'\n",
    "\n",
    "# for page in tweepy.Cursor(api.search_full_archive,label='development', \n",
    "#                           query=query,\n",
    "#                           fromDate='202111130000',\n",
    "#                           toDate='202111170000',\n",
    "#                         maxResults=10).items(10):\n",
    "    \n",
    "#     parsedTweets.append('name' = page.in_reply_to_screen_name,'tweet'=>page.text,'created_at' => page.created_at)\n",
    "# parsedTweets\n",
    "tweets = tweepy.Cursor(api.search_full_archive,label='development', \n",
    "                          query=query,\n",
    "                          fromDate='20200616000',\n",
    "                          toDate='202006170000',\n",
    "                        maxResults=100).items(100)"
   ]
  },
  {
   "cell_type": "code",
   "execution_count": 5,
   "id": "b6b72a89",
   "metadata": {},
   "outputs": [
    {
     "data": {
      "text/html": [
       "<div>\n",
       "<style scoped>\n",
       "    .dataframe tbody tr th:only-of-type {\n",
       "        vertical-align: middle;\n",
       "    }\n",
       "\n",
       "    .dataframe tbody tr th {\n",
       "        vertical-align: top;\n",
       "    }\n",
       "\n",
       "    .dataframe thead th {\n",
       "        text-align: right;\n",
       "    }\n",
       "</style>\n",
       "<table border=\"1\" class=\"dataframe\">\n",
       "  <thead>\n",
       "    <tr style=\"text-align: right;\">\n",
       "      <th></th>\n",
       "      <th>created_at</th>\n",
       "      <th>username</th>\n",
       "      <th>text</th>\n",
       "    </tr>\n",
       "  </thead>\n",
       "  <tbody>\n",
       "    <tr>\n",
       "      <th>0</th>\n",
       "      <td>2020-06-16</td>\n",
       "      <td>collegemenfess</td>\n",
       "      <td>[cm] guys mau nanya, temenku kan ngirim surat ...</td>\n",
       "    </tr>\n",
       "    <tr>\n",
       "      <th>1</th>\n",
       "      <td>2020-06-16</td>\n",
       "      <td>flasvh</td>\n",
       "      <td>@collegemenfess Mngkin karena daring makanya s...</td>\n",
       "    </tr>\n",
       "    <tr>\n",
       "      <th>2</th>\n",
       "      <td>2020-06-16</td>\n",
       "      <td>AMWalisongo</td>\n",
       "      <td>Dengan adanya survei kecil-kecilan ini, lebih ...</td>\n",
       "    </tr>\n",
       "    <tr>\n",
       "      <th>3</th>\n",
       "      <td>2020-06-16</td>\n",
       "      <td>rogasper</td>\n",
       "      <td>@vitobasterbine Saya juga setuju, Kasihan yg s...</td>\n",
       "    </tr>\n",
       "    <tr>\n",
       "      <th>4</th>\n",
       "      <td>2020-06-16</td>\n",
       "      <td>delacr0ixx</td>\n",
       "      <td>RT @bahrul04_: Setelah kuliah daring, yang dip...</td>\n",
       "    </tr>\n",
       "    <tr>\n",
       "      <th>...</th>\n",
       "      <td>...</td>\n",
       "      <td>...</td>\n",
       "      <td>...</td>\n",
       "    </tr>\n",
       "    <tr>\n",
       "      <th>95</th>\n",
       "      <td>2020-06-16</td>\n",
       "      <td>remahremahciki</td>\n",
       "      <td>@Angelo_Mikha Bener banget, gara-gara 3 bulan ...</td>\n",
       "    </tr>\n",
       "    <tr>\n",
       "      <th>96</th>\n",
       "      <td>2020-06-16</td>\n",
       "      <td>unismafess</td>\n",
       "      <td>Kuy Opo aku tok nde kene sing mulai bosen, mal...</td>\n",
       "    </tr>\n",
       "    <tr>\n",
       "      <th>97</th>\n",
       "      <td>2020-06-16</td>\n",
       "      <td>matchhamouss</td>\n",
       "      <td>@collegemenfess Akuuu. Aku pengen bgt daring d...</td>\n",
       "    </tr>\n",
       "    <tr>\n",
       "      <th>98</th>\n",
       "      <td>2020-06-16</td>\n",
       "      <td>_jigeumbuteo</td>\n",
       "      <td>@hysora_ kaka jugaaa ayeee 🤩🤩 ka liddd masa ak...</td>\n",
       "    </tr>\n",
       "    <tr>\n",
       "      <th>99</th>\n",
       "      <td>2020-06-16</td>\n",
       "      <td>collegemenfess</td>\n",
       "      <td>[cm] ada gak di antara kalian yang milih kulia...</td>\n",
       "    </tr>\n",
       "  </tbody>\n",
       "</table>\n",
       "<p>100 rows × 3 columns</p>\n",
       "</div>"
      ],
      "text/plain": [
       "    created_at        username  \\\n",
       "0   2020-06-16  collegemenfess   \n",
       "1   2020-06-16          flasvh   \n",
       "2   2020-06-16     AMWalisongo   \n",
       "3   2020-06-16        rogasper   \n",
       "4   2020-06-16      delacr0ixx   \n",
       "..         ...             ...   \n",
       "95  2020-06-16  remahremahciki   \n",
       "96  2020-06-16      unismafess   \n",
       "97  2020-06-16    matchhamouss   \n",
       "98  2020-06-16    _jigeumbuteo   \n",
       "99  2020-06-16  collegemenfess   \n",
       "\n",
       "                                                 text  \n",
       "0   [cm] guys mau nanya, temenku kan ngirim surat ...  \n",
       "1   @collegemenfess Mngkin karena daring makanya s...  \n",
       "2   Dengan adanya survei kecil-kecilan ini, lebih ...  \n",
       "3   @vitobasterbine Saya juga setuju, Kasihan yg s...  \n",
       "4   RT @bahrul04_: Setelah kuliah daring, yang dip...  \n",
       "..                                                ...  \n",
       "95  @Angelo_Mikha Bener banget, gara-gara 3 bulan ...  \n",
       "96  Kuy Opo aku tok nde kene sing mulai bosen, mal...  \n",
       "97  @collegemenfess Akuuu. Aku pengen bgt daring d...  \n",
       "98  @hysora_ kaka jugaaa ayeee 🤩🤩 ka liddd masa ak...  \n",
       "99  [cm] ada gak di antara kalian yang milih kulia...  \n",
       "\n",
       "[100 rows x 3 columns]"
      ]
     },
     "execution_count": 5,
     "metadata": {},
     "output_type": "execute_result"
    }
   ],
   "source": [
    "tweets_list = [[tweet.created_at, tweet.user.screen_name, tweet.text] for tweet in tweets]\n",
    "tweets_df = pd.DataFrame(tweets_list,columns=['created_at', 'username', 'text'])\n",
    "tweets_df['created_at'] = tweets_df['created_at'].apply(lambda a: pd.to_datetime(a).date())\n",
    "tweets_df"
   ]
  },
  {
   "cell_type": "code",
   "execution_count": 6,
   "id": "3b582c81",
   "metadata": {},
   "outputs": [],
   "source": [
    "from openpyxl import load_workbook\n",
    "book = load_workbook('D:\\Kuliah\\Skripsi\\Penelitian\\dataSet1.xlsx')\n",
    "writer = pd.ExcelWriter('D:\\Kuliah\\Skripsi\\Penelitian\\dataSet1.xlsx', engine='openpyxl')\n",
    "writer.book = book\n",
    "writer.sheets = dict((ws.title, ws) for ws in book.worksheets)\n",
    "\n",
    "tweets_df.to_excel(writer, index = False)\n",
    "\n",
    "writer.save()"
   ]
  },
  {
   "cell_type": "code",
   "execution_count": null,
   "id": "cd7a1452",
   "metadata": {},
   "outputs": [],
   "source": []
  }
 ],
 "metadata": {
  "kernelspec": {
   "display_name": "Python 3 (ipykernel)",
   "language": "python",
   "name": "python3"
  },
  "language_info": {
   "codemirror_mode": {
    "name": "ipython",
    "version": 3
   },
   "file_extension": ".py",
   "mimetype": "text/x-python",
   "name": "python",
   "nbconvert_exporter": "python",
   "pygments_lexer": "ipython3",
   "version": "3.9.7"
  }
 },
 "nbformat": 4,
 "nbformat_minor": 5
}
